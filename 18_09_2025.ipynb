{
  "nbformat": 4,
  "nbformat_minor": 0,
  "metadata": {
    "colab": {
      "provenance": []
    },
    "kernelspec": {
      "name": "python3",
      "display_name": "Python 3"
    },
    "language_info": {
      "name": "python"
    }
  },
  "cells": [
    {
      "cell_type": "code",
      "execution_count": null,
      "metadata": {
        "id": "M2NPmgGoPM7G",
        "colab": {
          "base_uri": "https://localhost:8080/"
        },
        "outputId": "287651a7-22a1-4971-cbb2-2e012b28af26"
      },
      "outputs": [
        {
          "output_type": "stream",
          "name": "stdout",
          "text": [
            "total vowels is: 1\n",
            "total vowels is: 2\n",
            "total vowels is: 3\n",
            "total vowels is: 4\n",
            "total vowels is: 5\n",
            "total vowels is: 6\n",
            "total vowels is: 7\n",
            "total vowels is: 8\n"
          ]
        }
      ],
      "source": [
        "sentense= \"python programing language\"\n",
        "count = 0\n",
        "for ch in sentense:\n",
        "  if ch in \"aeiou\" :\n",
        "    count +=1\n",
        "    print(\"total vowels is:\",count)"
      ]
    },
    {
      "cell_type": "code",
      "source": [
        "base=4\n",
        "height=5\n",
        "triangle=0.5*base*height\n",
        "print(\"area of triangle is:\",triangle)"
      ],
      "metadata": {
        "colab": {
          "base_uri": "https://localhost:8080/"
        },
        "id": "neNX9RcsRLDE",
        "outputId": "d92d99fe-61e7-42ac-a369-f6e07150676f"
      },
      "execution_count": null,
      "outputs": [
        {
          "output_type": "stream",
          "name": "stdout",
          "text": [
            "area of triangle is: 10.0\n"
          ]
        }
      ]
    },
    {
      "cell_type": "code",
      "source": [
        "red=4\n",
        "area=3.14*red**2\n",
        "print(\"area of circle is :\",area)"
      ],
      "metadata": {
        "colab": {
          "base_uri": "https://localhost:8080/"
        },
        "id": "6XCr9Wr4SsrC",
        "outputId": "177aa5db-b243-4989-9b54-a57c8ae5577b"
      },
      "execution_count": null,
      "outputs": [
        {
          "output_type": "stream",
          "name": "stdout",
          "text": [
            "area of circle is : 50.24\n"
          ]
        }
      ]
    },
    {
      "cell_type": "code",
      "source": [
        "\n",
        "\n",
        "numbers=[5,25,35,45,28,10,15]\n",
        "lar=numbers[0]\n",
        "for num in numbers:\n",
        "  if num>lar:\n",
        "    lar=num\n",
        "print(\"largest number is:\",lar)\n",
        "\n"
      ],
      "metadata": {
        "colab": {
          "base_uri": "https://localhost:8080/"
        },
        "id": "p6Mff6fbTEmK",
        "outputId": "32121b65-a0ea-4409-d010-d22f60d25c06"
      },
      "execution_count": null,
      "outputs": [
        {
          "output_type": "stream",
          "name": "stdout",
          "text": [
            "largest number is: 45\n"
          ]
        }
      ]
    },
    {
      "cell_type": "code",
      "source": [
        "sentence=\"bachelor of computer scince first semester section c\"\n",
        "count=0\n",
        "for ch in sentence:\n",
        "  if ch not in \" aeiou\":\n",
        "    count+=1\n",
        "print(\"total consonents is:\",count)\n"
      ],
      "metadata": {
        "colab": {
          "base_uri": "https://localhost:8080/"
        },
        "id": "QsJJUfJqXuvb",
        "outputId": "4f043afb-b508-4dad-d15d-14a3ddc5c0ef"
      },
      "execution_count": null,
      "outputs": [
        {
          "output_type": "stream",
          "name": "stdout",
          "text": [
            "total consonents is: 29\n"
          ]
        }
      ]
    },
    {
      "cell_type": "code",
      "source": [
        "bikes=[\"rx 100\",\"gt 650\",\"ninja\",\"splender\",\"bajaj\",\"pulser\",\"ns 200\",\"m 80\",\"unicorn\"]\n",
        "for bike in bikes:\n",
        "  if bike==\"ns 200\":\n",
        "    break\n",
        "  print(bike)"
      ],
      "metadata": {
        "colab": {
          "base_uri": "https://localhost:8080/"
        },
        "id": "CLYHOS6vsulM",
        "outputId": "4b4b9934-e388-4b14-fc26-68e92c05a470"
      },
      "execution_count": 43,
      "outputs": [
        {
          "output_type": "stream",
          "name": "stdout",
          "text": [
            "rx 100\n",
            "gt 650\n",
            "ninja\n",
            "splender\n",
            "bajaj\n",
            "pulser\n"
          ]
        }
      ]
    },
    {
      "cell_type": "code",
      "source": [
        "colours={\"purple\",\"pink\",\"black\",\"white\",'red',\"orange\",\"levender\",\"gray\",'yellow',\"maroon\"}\n",
        "for  color in colours:\n",
        "  if color==\"black\":\n",
        "    break\n",
        "  print(color)"
      ],
      "metadata": {
        "colab": {
          "base_uri": "https://localhost:8080/"
        },
        "id": "spqV-oLruL4M",
        "outputId": "338453d5-a54d-4e76-8b69-0320f5d98aba"
      },
      "execution_count": 48,
      "outputs": [
        {
          "output_type": "stream",
          "name": "stdout",
          "text": [
            "yellow\n",
            "maroon\n",
            "gray\n",
            "orange\n",
            "pink\n",
            "levender\n",
            "purple\n"
          ]
        }
      ]
    },
    {
      "cell_type": "code",
      "source": [
        "fruits=(\"apple\",\"orange\",\"mango\",\"strawbery\",\"dragon fruit\",\"greeps\",\"banana\",\"pinapal\",\"pappaya\",\"water melon\",)\n",
        "for fruit in fruits:\n",
        "  if fruit==\"greeps\":\n",
        "    continue\n",
        "  print(fruit)"
      ],
      "metadata": {
        "colab": {
          "base_uri": "https://localhost:8080/"
        },
        "id": "gL0OwX3AvakJ",
        "outputId": "143aef1d-6103-4f36-8231-c874fbc20d18"
      },
      "execution_count": 58,
      "outputs": [
        {
          "output_type": "stream",
          "name": "stdout",
          "text": [
            "apple\n",
            "orange\n",
            "mango\n",
            "strawbery\n",
            "dragon fruit\n",
            "banana\n",
            "pinapal\n",
            "pappaya\n",
            "water melon\n"
          ]
        }
      ]
    },
    {
      "cell_type": "code",
      "source": [
        "mobailes={\"vivo\",\"redmi\",\"oppo\",\"vivo\",\"vivo\",\"oppo\",\"iqee\",\"vivo\",\"1 plus\"}\n",
        "for mobaile in mobailes:\n",
        "  if mobaile==\"vivo\":\n",
        "    continue\n",
        "  print(mobaile)"
      ],
      "metadata": {
        "colab": {
          "base_uri": "https://localhost:8080/"
        },
        "id": "UvCWzYyFymQm",
        "outputId": "dacae836-fd34-4d39-e01a-14b7258651d8"
      },
      "execution_count": 69,
      "outputs": [
        {
          "output_type": "stream",
          "name": "stdout",
          "text": [
            "iqee\n",
            "1 plus\n",
            "redmi\n",
            "oppo\n"
          ]
        }
      ]
    },
    {
      "cell_type": "code",
      "source": [
        "movies=[\"kgf\",\"chhava\",\"bahubali\",\"saiyaara\",\"rrr\",\"kalki\",\"kannadakagi onendonnu otti\"]\n",
        "for movie in movies:\n",
        "  if movie==\"rrr\":\n",
        "    pass\n",
        "  print(movie)"
      ],
      "metadata": {
        "colab": {
          "base_uri": "https://localhost:8080/"
        },
        "id": "iWJpxkLN1IxT",
        "outputId": "35e1fa77-e16c-48cb-f952-96d8a8327f44"
      },
      "execution_count": 78,
      "outputs": [
        {
          "output_type": "stream",
          "name": "stdout",
          "text": [
            "kgf\n",
            "chhava\n",
            "bahubali\n",
            "saiyaara\n",
            "rrr\n",
            "kalki\n",
            "kannadakagi onendonnu otti\n"
          ]
        }
      ]
    },
    {
      "cell_type": "code",
      "source": [
        "things={\"mobail\",\"laptop\",\"monitor\",\"tab\",\"book\",\"pen\",\"paper\"}\n",
        "for thing in things:\n",
        "  if thing==\"mobail\":\n",
        "    break\n",
        "  print(thing)"
      ],
      "metadata": {
        "colab": {
          "base_uri": "https://localhost:8080/"
        },
        "id": "xoYtUGy73hNd",
        "outputId": "4a8a674c-712a-4930-f9f2-b206b860c09b"
      },
      "execution_count": 83,
      "outputs": [
        {
          "output_type": "stream",
          "name": "stdout",
          "text": [
            "monitor\n",
            "laptop\n",
            "book\n",
            "paper\n",
            "pen\n"
          ]
        }
      ]
    },
    {
      "cell_type": "code",
      "source": [
        "for i in range(1,11):\n",
        "  for j in range(j):\n",
        "    print(j,end=\" \")\n",
        "  print()"
      ],
      "metadata": {
        "colab": {
          "base_uri": "https://localhost:8080/"
        },
        "id": "3HNJerhb5fQj",
        "outputId": "6f4f1ed4-160a-40f9-d4b8-aa050c50348e"
      },
      "execution_count": 127,
      "outputs": [
        {
          "output_type": "stream",
          "name": "stdout",
          "text": [
            "\n",
            "\n",
            "\n",
            "\n",
            "\n",
            "\n",
            "\n",
            "\n",
            "\n",
            "\n"
          ]
        }
      ]
    },
    {
      "cell_type": "code",
      "source": [
        "for i in range(10):\n",
        "  for j in range(i+1,10):\n",
        "    print(\" \",end=\" \")\n",
        "  for j in range(10):\n",
        "    print(\"&\",end=\" \")\n",
        "  print()\n"
      ],
      "metadata": {
        "colab": {
          "base_uri": "https://localhost:8080/"
        },
        "id": "dnGPwON872Qb",
        "outputId": "46e7eba5-0407-4543-c3e6-94299f3c3919"
      },
      "execution_count": 176,
      "outputs": [
        {
          "output_type": "stream",
          "name": "stdout",
          "text": [
            "                  & & & & & & & & & & \n",
            "                & & & & & & & & & & \n",
            "              & & & & & & & & & & \n",
            "            & & & & & & & & & & \n",
            "          & & & & & & & & & & \n",
            "        & & & & & & & & & & \n",
            "      & & & & & & & & & & \n",
            "    & & & & & & & & & & \n",
            "  & & & & & & & & & & \n",
            "& & & & & & & & & & \n"
          ]
        }
      ]
    },
    {
      "cell_type": "code",
      "source": [
        "row=10\n",
        "col=10\n",
        "for i in range(0,row):\n",
        "  for j in range(0,col):\n",
        "    if i==0 or i==row-1 or j==0 or j==col-1:\n",
        "      print(\"&\",end=\" \")\n",
        "    else:\n",
        "      print(\" \",end=\" \")\n",
        "  print()"
      ],
      "metadata": {
        "colab": {
          "base_uri": "https://localhost:8080/"
        },
        "id": "lV5Tc7pJUzJs",
        "outputId": "b00791dc-542b-4a8b-c584-43b08c220402"
      },
      "execution_count": 205,
      "outputs": [
        {
          "output_type": "stream",
          "name": "stdout",
          "text": [
            "& & & & & & & & & & \n",
            "&                 & \n",
            "&                 & \n",
            "&                 & \n",
            "&                 & \n",
            "&                 & \n",
            "&                 & \n",
            "&                 & \n",
            "&                 & \n",
            "& & & & & & & & & & \n"
          ]
        }
      ]
    },
    {
      "cell_type": "code",
      "source": [
        "for i in range(10):\n",
        "  for j in range(i):\n",
        "    print(\"&\",end=\" \")\n",
        "  print()"
      ],
      "metadata": {
        "colab": {
          "base_uri": "https://localhost:8080/"
        },
        "id": "JL7eYi18XrKS",
        "outputId": "232edf65-31e7-4478-92f3-fbdbd0461371"
      },
      "execution_count": 208,
      "outputs": [
        {
          "output_type": "stream",
          "name": "stdout",
          "text": [
            "\n",
            "& \n",
            "& & \n",
            "& & & \n",
            "& & & & \n",
            "& & & & & \n",
            "& & & & & & \n",
            "& & & & & & & \n",
            "& & & & & & & & \n",
            "& & & & & & & & & \n"
          ]
        }
      ]
    },
    {
      "cell_type": "code",
      "source": [
        "num=10\n",
        "for i in range(0,num):\n",
        "  for j in range(0,num-i-1):\n",
        "    print(\" \",end=\" \")\n",
        "  for j in range(0,i*2+1):\n",
        "    print(\"&\",end=\" \")\n",
        "  print()\n",
        "for i in range(0,num):\n",
        "  for j in range(0,i):\n",
        "    print(\" \",end=\" \")\n",
        "  for j in range(0,(num-i)*2-1):\n",
        "    print(\"&\",end=\" \")\n",
        "  print()"
      ],
      "metadata": {
        "colab": {
          "base_uri": "https://localhost:8080/"
        },
        "id": "eSt_BOHmYbmo",
        "outputId": "54f17495-f902-4ecd-cb62-d9c7f6d2a556"
      },
      "execution_count": 244,
      "outputs": [
        {
          "output_type": "stream",
          "name": "stdout",
          "text": [
            "                  & \n",
            "                & & & \n",
            "              & & & & & \n",
            "            & & & & & & & \n",
            "          & & & & & & & & & \n",
            "        & & & & & & & & & & & \n",
            "      & & & & & & & & & & & & & \n",
            "    & & & & & & & & & & & & & & & \n",
            "  & & & & & & & & & & & & & & & & & \n",
            "& & & & & & & & & & & & & & & & & & & \n",
            "& & & & & & & & & & & & & & & & & & & \n",
            "  & & & & & & & & & & & & & & & & & \n",
            "    & & & & & & & & & & & & & & & \n",
            "      & & & & & & & & & & & & & \n",
            "        & & & & & & & & & & & \n",
            "          & & & & & & & & & \n",
            "            & & & & & & & \n",
            "              & & & & & \n",
            "                & & & \n",
            "                  & \n"
          ]
        }
      ]
    },
    {
      "cell_type": "code",
      "source": [
        "# 1) example\n",
        "def example():\n",
        "  print(\"good afternoon\")\n",
        "\n",
        "example()\n",
        "\n",
        "\n",
        "# 2)\n",
        "def fun(num):\n",
        "  return num*num\n",
        "print(fun(4))\n",
        "\n",
        "#3)\n",
        "def add(a,b):\n",
        "  print(f'addition of two number is {a+b}')\n",
        "add(5,10)"
      ],
      "metadata": {
        "colab": {
          "base_uri": "https://localhost:8080/"
        },
        "id": "kKAeYdl2iEgO",
        "outputId": "2896a6de-94c0-436f-b6af-3987ea62ca7c"
      },
      "execution_count": 255,
      "outputs": [
        {
          "output_type": "stream",
          "name": "stdout",
          "text": [
            "good afternoon\n",
            "16\n",
            "addition of two number is 15\n"
          ]
        }
      ]
    }
  ]
}