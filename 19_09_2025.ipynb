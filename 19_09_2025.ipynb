{
  "nbformat": 4,
  "nbformat_minor": 0,
  "metadata": {
    "colab": {
      "provenance": []
    },
    "kernelspec": {
      "name": "python3",
      "display_name": "Python 3"
    },
    "language_info": {
      "name": "python"
    }
  },
  "cells": [
    {
      "cell_type": "code",
      "execution_count": null,
      "metadata": {
        "colab": {
          "base_uri": "https://localhost:8080/"
        },
        "id": "QNbo68XUPCs0",
        "outputId": "33848af0-79a6-4fdf-e587-895401c29527"
      },
      "outputs": [
        {
          "output_type": "stream",
          "name": "stdout",
          "text": [
            "total value is: 15\n",
            "total value is: 18\n",
            "total value is: 90\n"
          ]
        }
      ],
      "source": [
        "def add(*args):\n",
        "  total=0\n",
        "  for num in args:\n",
        "    total+=num\n",
        "  print(\"total value is:\",total)\n",
        "add(10,5)\n",
        "add(5,4,9)\n",
        "add(10,46,14,20)\n"
      ]
    },
    {
      "cell_type": "code",
      "source": [
        "def detals(**kwargs):\n",
        "  for key,value in kwargs.items():\n",
        "    print(f'my detals is {key} and {value}')\n",
        "detals(course=\"bca\",section='c',college=\"bk college\")\n",
        "detals(place=\"belagavi\")\n",
        "detals(roll_num=201,t_subject=7)\n",
        "detals(laptop=\"hp\",o_s=\"window\",year=2022,version=\"wondows 11\")"
      ],
      "metadata": {
        "colab": {
          "base_uri": "https://localhost:8080/"
        },
        "id": "HD1Dj06TSGzb",
        "outputId": "9fe1c7ab-8db3-40c7-e49f-5fd68044410d"
      },
      "execution_count": null,
      "outputs": [
        {
          "output_type": "stream",
          "name": "stdout",
          "text": [
            "my detals is course and bca\n",
            "my detals is section and c\n",
            "my detals is college and bk college\n",
            "my detals is place and belagavi\n",
            "my detals is roll_num and 201\n",
            "my detals is t_subject and 7\n",
            "my detals is laptop and hp\n",
            "my detals is o_s and window\n",
            "my detals is year and 2022\n",
            "my detals is version and wondows 11\n"
          ]
        }
      ]
    },
    {
      "cell_type": "code",
      "source": [
        "def show_values(*args,**kwargs):\n",
        "  print(\"positional arguments represented in tuple\",args)\n",
        "  print(\"key-words arguments represented in dict\",kwargs)\n",
        "show_values(1,2,3,4,name=\"parth\")\n",
        "\n",
        "show_values(5,8,1,10,Class=\"bca c section\",gender=\"male\")\n"
      ],
      "metadata": {
        "colab": {
          "base_uri": "https://localhost:8080/"
        },
        "id": "xzM7bX6GWVv-",
        "outputId": "40fd5dd6-340b-4d11-ac90-90ffa278d36b"
      },
      "execution_count": null,
      "outputs": [
        {
          "output_type": "stream",
          "name": "stdout",
          "text": [
            "positional arguments represented in tuple (1, 2, 3, 4)\n",
            "key-words arguments represented in dict {'name': 'parth'}\n",
            "positional arguments represented in tuple (5, 8, 1, 10)\n",
            "key-words arguments represented in dict {'Class': 'bca c section', 'gender': 'male'}\n"
          ]
        }
      ]
    },
    {
      "cell_type": "code",
      "source": [
        "fact=1\n",
        "for i in range(1,6):\n",
        "  fact=fact*i\n",
        "  print(fact)\n"
      ],
      "metadata": {
        "colab": {
          "base_uri": "https://localhost:8080/"
        },
        "id": "1suL52fvZRC3",
        "outputId": "cc42934c-6070-4464-af99-5a05601f84e0"
      },
      "execution_count": null,
      "outputs": [
        {
          "output_type": "stream",
          "name": "stdout",
          "text": [
            "1\n",
            "2\n",
            "6\n",
            "24\n",
            "120\n"
          ]
        }
      ]
    },
    {
      "cell_type": "code",
      "source": [
        "def fact(num):\n",
        "  if num==0 or num==1:\n",
        "    return 1\n",
        "  else:\n",
        "    return num*fact(num-1)\n",
        "print(\"factorial number is :\",fact(5))"
      ],
      "metadata": {
        "colab": {
          "base_uri": "https://localhost:8080/"
        },
        "id": "GkN0Ap6icGRF",
        "outputId": "3a612ffd-778c-4d6c-a7bf-0199a4a5e97d"
      },
      "execution_count": null,
      "outputs": [
        {
          "output_type": "stream",
          "name": "stdout",
          "text": [
            "factorial number is : 120\n"
          ]
        }
      ]
    },
    {
      "cell_type": "code",
      "source": [
        "def sum(num):\n",
        "  if num==0:\n",
        "    return num\n",
        "  else:\n",
        "    return num+sum(num-1)\n",
        "print(\"sum of N natural number is :\",sum(10))"
      ],
      "metadata": {
        "colab": {
          "base_uri": "https://localhost:8080/"
        },
        "id": "i5qZgDDb9ocj",
        "outputId": "b8d8fcb8-ec18-4c6a-845b-723a91764742"
      },
      "execution_count": null,
      "outputs": [
        {
          "output_type": "stream",
          "name": "stdout",
          "text": [
            "sum of N natural number is : 55\n"
          ]
        }
      ]
    },
    {
      "cell_type": "code",
      "source": [
        "def fact(num):\n",
        "  if num==0 or num==1:\n",
        "    return num\n",
        "  else:\n",
        "    return num+fact(num-1)\n",
        "print(\"factorial number is :\",fact(10))"
      ],
      "metadata": {
        "colab": {
          "base_uri": "https://localhost:8080/"
        },
        "id": "uuypGDDK_zI5",
        "outputId": "0dfdafee-120e-4db2-863f-9546bfb46777"
      },
      "execution_count": null,
      "outputs": [
        {
          "output_type": "stream",
          "name": "stdout",
          "text": [
            "factorial number is : 55\n"
          ]
        }
      ]
    },
    {
      "cell_type": "code",
      "source": [
        "def fibo(num):\n",
        "  if num <=1:\n",
        "    return num\n",
        "  else:\n",
        "    return fibo(num-1)+fibo(num-2)\n",
        "for i in range(11):\n",
        "  print(fibo(i),end=\" \")"
      ],
      "metadata": {
        "colab": {
          "base_uri": "https://localhost:8080/"
        },
        "id": "2GCwgBo7BcvB",
        "outputId": "d966f371-1eb7-429b-b01d-c73f6257d433"
      },
      "execution_count": 63,
      "outputs": [
        {
          "output_type": "stream",
          "name": "stdout",
          "text": [
            "0 1 1 2 3 5 8 13 21 34 55 "
          ]
        }
      ]
    },
    {
      "cell_type": "code",
      "source": [
        "my_name=\"vasu\"\n",
        "print(my_name[:4])\n"
      ],
      "metadata": {
        "colab": {
          "base_uri": "https://localhost:8080/"
        },
        "id": "wDQ9lxbtFiKS",
        "outputId": "803faece-4959-4881-a74a-704daaced208"
      },
      "execution_count": 87,
      "outputs": [
        {
          "output_type": "stream",
          "name": "stdout",
          "text": [
            "vasu\n"
          ]
        }
      ]
    },
    {
      "cell_type": "code",
      "source": [
        "class fruit:\n",
        "  colour=\"orange\"\n",
        "  price=250\n",
        "  teste=\"sweet\"\n",
        "  shape=\"circle\"\n",
        "def juice(self):\n",
        "  print(\" \")\n",
        "orange=fruit()\n",
        "print(\"orange colour is\",orange.colour)"
      ],
      "metadata": {
        "colab": {
          "base_uri": "https://localhost:8080/"
        },
        "id": "RDYYdYbpKAfs",
        "outputId": "3c83bd82-416f-43e8-d167-be21852d1abb"
      },
      "execution_count": 95,
      "outputs": [
        {
          "output_type": "stream",
          "name": "stdout",
          "text": [
            "orange colour is orange\n"
          ]
        }
      ]
    },
    {
      "cell_type": "code",
      "source": [
        "class flower:\n",
        "  smell=\"nice\"\n",
        "  petal=5\n",
        "  size=\"medium\"\n",
        "  gender=\"male\"\n",
        "  validity=1.5\n",
        "  def decoration(self):\n",
        "    print(\"hello good morning\")\n",
        "  def gift(self):\n",
        "    print(\"good afternoon\")\n",
        "  def marriage(self):\n",
        "    print(\"marriage\")\n",
        "  def death(self):\n",
        "    print(\"this flower is using for death time.\")\n",
        "obj=flower()\n",
        "obj.marriage()\n",
        "print(obj.gender)\n",
        "obj.decoration()\n",
        "obj.gift()\n",
        "obj.death()"
      ],
      "metadata": {
        "colab": {
          "base_uri": "https://localhost:8080/"
        },
        "id": "eNzwRlI-RKqH",
        "outputId": "d18444aa-a2fb-4d8d-f45c-6aed63b81c47"
      },
      "execution_count": 105,
      "outputs": [
        {
          "output_type": "stream",
          "name": "stdout",
          "text": [
            "marriage\n",
            "male\n",
            "hello good morning\n",
            "good afternoon\n",
            "this flower is using for death time.\n"
          ]
        }
      ]
    },
    {
      "cell_type": "code",
      "source": [
        "class fan:\n",
        "  colour=\"black\"\n",
        "  wings=3\n",
        "  c_name=\"bajaj\"\n",
        "  price=1500\n",
        "  warrenty=\"2 years\"\n",
        "  def start(self):\n",
        "    print(\"when click on button it'll start\")\n",
        "  def speed(self):\n",
        "    print(\"based on condition it'll move fast\")\n",
        "  def stop(self):\n",
        "    print(\"when click off button it'll stop\")\n",
        "obj=fan()\n",
        "obj.start()\n",
        "print(obj.c_name+\" \"+obj.warrenty)\n",
        "obj.stop()\n",
        "print(obj.price)\n",
        "obj.speed()"
      ],
      "metadata": {
        "colab": {
          "base_uri": "https://localhost:8080/"
        },
        "id": "CzBYOuYaWmGa",
        "outputId": "615a3a6d-d9d3-49c6-ef0a-14747a41d59c"
      },
      "execution_count": 114,
      "outputs": [
        {
          "output_type": "stream",
          "name": "stdout",
          "text": [
            "when click on button it'll start\n",
            "bajaj 2 years\n",
            "when click off button it'll stop\n",
            "1500\n",
            "based on condition it'll move fast\n"
          ]
        }
      ]
    },
    {
      "cell_type": "code",
      "source": [
        "class bank:\n",
        "  def __init__(self,balance):\n",
        "    self.balance=balance\n",
        "  def deposit(self,amount):\n",
        "    self.balance +=amount\n",
        "  def withdraw(self,amount):\n",
        "      if amount<=self.balance:\n",
        "          self.balance-=amount\n",
        "          print(\"transaction successfully 300\")\n",
        "      else:\n",
        "        print(\"insufficient balance\")\n",
        "  def re_balance(self):\n",
        "      return self.balance\n",
        "obj=bank(1000)\n",
        "print(obj.balance)\n",
        "obj.deposit(500)\n",
        "print(obj.balance)\n",
        "obj.withdraw(700)\n",
        "obj.re_balance()\n",
        "print(obj.re_balance())\n",
        "obj.deposit(1000)\n",
        "print(obj.balance)\n",
        "obj.withdraw(2000)\n",
        "obj.re_balance()\n",
        "print(obj.re_balance())\n",
        "obj.withdraw(300)\n",
        "obj.re_balance()\n",
        "print(obj.balance)\n",
        "\n",
        ""
      ],
      "metadata": {
        "id": "EKPSs_0K0MvA",
        "outputId": "d133b26c-5655-4cca-bebb-835f18024907",
        "colab": {
          "base_uri": "https://localhost:8080/"
        }
      },
      "execution_count": 116,
      "outputs": [
        {
          "output_type": "stream",
          "name": "stdout",
          "text": [
            "1000\n",
            "1500\n",
            "transaction successfully 300\n",
            "800\n",
            "1800\n",
            "insufficient balance\n",
            "1800\n",
            "transaction successfully 300\n",
            "1500\n"
          ]
        }
      ]
    },
    {
      "cell_type": "code",
      "source": [
        "class student:\n",
        "    def __init__(self,name,marks,place):\n",
        "        self.__name= name\n",
        "        self.__marks= marks\n",
        "        self.place= place\n",
        "\n",
        "    def set_method(self,name,marks):\n",
        "        self.name= name\n",
        "        self.marks= marks\n",
        "\n",
        "    def get_method(self):\n",
        "        return self.name + \" \" +str(self.marks)\n",
        "\n",
        "\n",
        "Obj= student(\"parth\",85,\"mangavati\")\n",
        "Obj.set_method(\"sharath\",69)\n",
        "print(Obj.get_method())\n",
        "\n"
      ],
      "metadata": {
        "id": "DkSBZAQ-5-MS",
        "outputId": "24448f67-abe5-452b-a6f6-e4a8d06c358f",
        "colab": {
          "base_uri": "https://localhost:8080/"
        }
      },
      "execution_count": 126,
      "outputs": [
        {
          "output_type": "stream",
          "name": "stdout",
          "text": [
            "sharath 69\n"
          ]
        }
      ]
    },
    {
      "cell_type": "code",
      "source": [
        "# 1) single inheritance\n",
        "\n",
        "class parent:\n",
        "    def work(self):\n",
        "        print(\"my parents are doing forming\")\n",
        "\n",
        "class children(parent):\n",
        "    def study(self):\n",
        "        print(\"I'm studying BCAin bk college\")\n",
        "\n",
        "ch= children()\n",
        "ch.work()\n",
        "ch.study()\n",
        ""
      ],
      "metadata": {
        "id": "qGg5c99F_QYs",
        "outputId": "be6cb76b-da9f-48ee-806f-55d679938be3",
        "colab": {
          "base_uri": "https://localhost:8080/"
        }
      },
      "execution_count": 128,
      "outputs": [
        {
          "output_type": "stream",
          "name": "stdout",
          "text": [
            "my parents are doing forming\n",
            "I'm studying BCAin bk college\n"
          ]
        }
      ]
    },
    {
      "cell_type": "code",
      "source": [
        "# multiple inhritence\n",
        "\n",
        "class Father:\n",
        "    def hi(self):\n",
        "        print(\"My father is my first hero\")\n",
        "\n",
        "class Mother:\n",
        "    def hello(self):\n",
        "        print(\"My mother is a house wife\")\n",
        "\n",
        "class child(Father,Mother):\n",
        "    def Bye(self):\n",
        "        print(\"I'm working as a Freelancer\")\n",
        "\n",
        "obj=child()\n",
        "obj.hi()\n",
        "obj.hello()\n",
        "obj.Bye()\n",
        ""
      ],
      "metadata": {
        "id": "Oh90URtTDqSu",
        "outputId": "ca105b31-2a79-4123-e104-d7b084b25a04",
        "colab": {
          "base_uri": "https://localhost:8080/"
        }
      },
      "execution_count": 129,
      "outputs": [
        {
          "output_type": "stream",
          "name": "stdout",
          "text": [
            "My father is my first hero\n",
            "My mother is a house wife\n",
            "I'm working as a Freelancer\n"
          ]
        }
      ]
    },
    {
      "cell_type": "code",
      "source": [
        "# multy level inhritence\n",
        "\n",
        "class Grand_parents:\n",
        "    def Formar(self):\n",
        "        print(\"old family\")\n",
        "\n",
        "class parents (Grand_parents):\n",
        "    def House(self):\n",
        "        print(\"family\")\n",
        "\n",
        "class child (parents):\n",
        "    def jolly(self):\n",
        "        print(\"happy\")\n",
        "\n",
        "obj=child()\n",
        "obj.House()\n",
        "obj.jolly()\n",
        "obj.Formar()"
      ],
      "metadata": {
        "id": "CA1_TqceGH9w",
        "outputId": "2b0dccc5-f9f4-45fa-f0be-671428355348",
        "colab": {
          "base_uri": "https://localhost:8080/"
        }
      },
      "execution_count": 130,
      "outputs": [
        {
          "output_type": "stream",
          "name": "stdout",
          "text": [
            "family\n",
            "happy\n",
            "old family\n"
          ]
        }
      ]
    },
    {
      "cell_type": "code",
      "source": [
        "# hirarchy inheritance\n",
        "\n",
        "class Parents:\n",
        "    def Business(self):\n",
        "        print(\"My Parents are doing business\")\n",
        "\n",
        "class child1(Parents):\n",
        "    def study(self):\n",
        "        print(\"I'm studying BCA\")\n",
        "\n",
        "class child2(Parents):\n",
        "    def study(self):\n",
        "        print(\"I'm studying PUC\")\n",
        "\n",
        "\n",
        "ch=child1()\n",
        "ch.Business()\n",
        "ch.study()\n",
        "\n",
        "obj=child2()\n",
        "obj.Business()\n",
        "obj.study()"
      ],
      "metadata": {
        "id": "-4ZC56YJGLdP",
        "outputId": "9484d4e6-47ff-4f5a-8ccd-024624d7ba25",
        "colab": {
          "base_uri": "https://localhost:8080/"
        }
      },
      "execution_count": 131,
      "outputs": [
        {
          "output_type": "stream",
          "name": "stdout",
          "text": [
            "My Parents are doing business\n",
            "I'm studying BCA\n",
            "My Parents are doing business\n",
            "I'm studying PUC\n"
          ]
        }
      ]
    },
    {
      "cell_type": "code",
      "source": [
        "# hirarchy inheritance\n",
        "\n",
        "class Parents:\n",
        "    def Business(self):\n",
        "        print(\"My Parents are doing business\")\n",
        "\n",
        "class child1(Parents):\n",
        "    def study(self):\n",
        "        print(\"I'm studying BCA\")\n",
        "\n",
        "class child2(Parents):\n",
        "    def study(self):\n",
        "        print(\"I'm studying PUC\")\n",
        "\n",
        "\n",
        "ch=child1()\n",
        "ch.Business()\n",
        "ch.study()\n",
        "\n",
        "obj=child2()\n",
        "obj.Business()\n",
        "obj.study()"
      ],
      "metadata": {
        "id": "IbxLJSnbNHR7",
        "outputId": "bea2e518-2532-46f8-9797-11588a45e7c7",
        "colab": {
          "base_uri": "https://localhost:8080/"
        }
      },
      "execution_count": 132,
      "outputs": [
        {
          "output_type": "stream",
          "name": "stdout",
          "text": [
            "My Parents are doing business\n",
            "I'm studying BCA\n",
            "My Parents are doing business\n",
            "I'm studying PUC\n"
          ]
        }
      ]
    }
  ]
}