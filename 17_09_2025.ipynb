{
  "nbformat": 4,
  "nbformat_minor": 0,
  "metadata": {
    "colab": {
      "provenance": []
    },
    "kernelspec": {
      "name": "python3",
      "display_name": "Python 3"
    },
    "language_info": {
      "name": "python"
    }
  },
  "cells": [
    {
      "cell_type": "code",
      "source": [
        "a,b,c=10,20,30\n",
        "if a>b and a>c:\n",
        "  print(\"a is greter\")\n",
        "if b>a and b>c:\n",
        "    print(\"b is greter\")\n",
        "else :\n",
        "    print(\"c is greter\")\n",
        "\n",
        "a=-5\n",
        "if a>0:\n",
        "  print(\"a is positive\")\n",
        "else:\n",
        "  print(\"a is negative\")"
      ],
      "metadata": {
        "colab": {
          "base_uri": "https://localhost:8080/"
        },
        "id": "0MW3Jfp6sdk2",
        "outputId": "1f1e15eb-59f8-4b60-cc2f-89d2d9469a0b"
      },
      "execution_count": null,
      "outputs": [
        {
          "output_type": "stream",
          "name": "stdout",
          "text": [
            "c is greter\n",
            "a is negative\n"
          ]
        }
      ]
    },
    {
      "cell_type": "code",
      "source": [
        "# write a program arithmatic operatpor using statement\n",
        "x,y=10,20\n",
        "option=(input(\"enter your choice option\"))\n",
        "match option:\n",
        "  case '+':\n",
        "    print(\"sum of values \",x+y)\n",
        "  case '-':\n",
        "    print(\"substraction of values\",x-y)\n",
        "  case '*':\n",
        "    print(\"multiplication of values\",x*y)\n",
        "  case '/':\n",
        "    print(\"division of values\",x/y)\n",
        "  case '%':\n",
        "    print(\"modulus of values\",x%y)\n",
        "  case '_':\n",
        "    print(\"invalide option\")\n",
        "  case'!=':\n",
        "    print(\"x is not equal to y\",x!=y)\n",
        "\n",
        "\n",
        "\n"
      ],
      "metadata": {
        "colab": {
          "base_uri": "https://localhost:8080/"
        },
        "id": "D7eVOWJGye0j",
        "outputId": "c6c178de-8da4-4af3-b0c7-2880212ad869"
      },
      "execution_count": null,
      "outputs": [
        {
          "output_type": "stream",
          "name": "stdout",
          "text": [
            "enter your choice option!=\n",
            "x is not equal to y True\n"
          ]
        }
      ]
    },
    {
      "cell_type": "code",
      "source": [
        "day=int(input(\"enter a day:\"))\n",
        "match day:\n",
        "  case 1:\n",
        "    print(\"sunday\")\n",
        "  case 2:\n",
        "    print(\"monday\")\n",
        "  case 3:\n",
        "    print(\"tuesday\")\n",
        "  case 4:\n",
        "    print(\"wendsaday\")\n",
        "  case 5:\n",
        "    print(\"thursday\")\n",
        "  case 6:\n",
        "    print(\"friday\")\n",
        "  case 7:\n",
        "    print(\"saturday\")\n",
        "  case _:\n",
        "    print(\"holiday\")\n"
      ],
      "metadata": {
        "colab": {
          "base_uri": "https://localhost:8080/"
        },
        "id": "FjZdk4n05q94",
        "outputId": "5d182170-5685-453c-e648-deb6db76cbeb"
      },
      "execution_count": null,
      "outputs": [
        {
          "output_type": "stream",
          "name": "stdout",
          "text": [
            "enter a day:3\n",
            "tuesday\n"
          ]
        }
      ]
    },
    {
      "cell_type": "code",
      "source": [
        "month=int(input(\"enter a month:\"))\n",
        "match month:\n",
        "  case 1:\n",
        "    print(\"january\")\n",
        "  case 2:\n",
        "    print(\"february\")\n",
        "  case 3:\n",
        "    print(\"march\")\n",
        "  case 4:\n",
        "    print(\"april\")\n",
        "  case 5:\n",
        "    print(\"may\")\n",
        "  case 6:\n",
        "    print(\"june\")\n",
        "  case 7:\n",
        "    print(\"july\")\n",
        "  case 8:\n",
        "    print(\"august\")\n",
        "  case 9:\n",
        "    print(\"september\")\n",
        "  case 10:\n",
        "    print(\"october\")\n",
        "  case 11:\n",
        "    print(\"november\")\n",
        "  case 12:\n",
        "    print(\"december\")\n",
        "  case _:\n",
        "    print(\"invalid numbeer\")\n"
      ],
      "metadata": {
        "colab": {
          "base_uri": "https://localhost:8080/"
        },
        "id": "eRftfYTW9AzA",
        "outputId": "b0466099-f169-4190-a729-84f67c9e8527"
      },
      "execution_count": null,
      "outputs": [
        {
          "output_type": "stream",
          "name": "stdout",
          "text": [
            "enter a month:20\n",
            "invalid numbeer\n"
          ]
        }
      ]
    },
    {
      "cell_type": "code",
      "source": [
        "i=1\n",
        "add=0\n",
        "while i<=10:\n",
        "  add=add+i\n",
        "  i=i+1\n",
        "  print(\"sum of n naturai number is :\",add)\n",
        "\n"
      ],
      "metadata": {
        "id": "DovFFXl3B_Lv"
      },
      "execution_count": null,
      "outputs": []
    },
    {
      "cell_type": "code",
      "source": [
        "num=5\n",
        "i=1\n",
        "while i<=10:\n",
        "   print(\"5*\",i,\"=\",num*i)\n",
        "   i=i+1"
      ],
      "metadata": {
        "colab": {
          "base_uri": "https://localhost:8080/"
        },
        "id": "Z_3xyo8EF1vu",
        "outputId": "99f4f747-47de-4aea-d897-56e87eedb731"
      },
      "execution_count": null,
      "outputs": [
        {
          "output_type": "stream",
          "name": "stdout",
          "text": [
            "5* 1 = 5\n",
            "5* 2 = 10\n",
            "5* 3 = 15\n",
            "5* 4 = 20\n",
            "5* 5 = 25\n",
            "5* 6 = 30\n",
            "5* 7 = 35\n",
            "5* 8 = 40\n",
            "5* 9 = 45\n",
            "5* 10 = 50\n"
          ]
        }
      ]
    },
    {
      "cell_type": "code",
      "source": [
        "num=370\n",
        "rem=0\n",
        "sum=0\n",
        "while num!=0\n",
        "  rem=num%10\n",
        "  sum=sum+rem*rem*rem\n",
        "  num=num//10\n",
        "  if temp==sum:\n",
        "    print(\"armstrong number\")\n",
        "  else:\n",
        "    print(\"not armstrong number\")\n",
        "\n"
      ],
      "metadata": {
        "id": "r_XefmA1S1rR"
      },
      "execution_count": null,
      "outputs": []
    },
    {
      "cell_type": "code",
      "source": [
        "num=12345\n",
        "rem=0\n",
        "rev=0\n",
        "temp=num\n",
        "while num>0:\n",
        "  rem=num%10\n",
        "  rev=rev*10+rem\n",
        "  num=num//10\n",
        "if temp==rev:\n",
        "  print(\"palindrome number\")\n",
        "else:\n",
        "  print(\"not palindrome number\")\n"
      ],
      "metadata": {
        "id": "z6QE8S_zUjbh"
      },
      "execution_count": null,
      "outputs": []
    },
    {
      "cell_type": "code",
      "source": [
        "i=2\n",
        "while i<=100:\n",
        "  print(i, end=\" \")\n",
        "  i+=2"
      ],
      "metadata": {
        "id": "68DCGTlcWwsh"
      },
      "execution_count": null,
      "outputs": []
    },
    {
      "cell_type": "code",
      "source": [
        "num,a,b=10,0,1\n",
        "i=0\n",
        "while i <=num:\n",
        "  print(a, end=\" \")\n",
        "  a,b=b, a+b\n",
        "  i+=1"
      ],
      "metadata": {
        "id": "Yz3YDpPkXJIP"
      },
      "execution_count": null,
      "outputs": []
    },
    {
      "cell_type": "code",
      "source": [
        "num=int(input(\"enter a number value\"))\n",
        "count=0\n",
        "while i<=num:\n",
        "  if num % i==0:\n",
        "    count+=1\n",
        "  i+=1\n",
        "if count==2:\n",
        "  print(\"prime number\")\n",
        "else :\n",
        "  print(\"not prime number\")"
      ],
      "metadata": {
        "id": "v_hZ5SwxYgyd"
      },
      "execution_count": null,
      "outputs": []
    },
    {
      "cell_type": "code",
      "source": [
        "num=10\n",
        "i=0\n",
        "while num>=i:\n",
        "  print(num,end=\" \")\n",
        "  num-=1"
      ],
      "metadata": {
        "id": "_5xb199XagPl"
      },
      "execution_count": null,
      "outputs": []
    },
    {
      "cell_type": "code",
      "source": [
        "i=1\n",
        "while i <=1280:\n",
        "print(i,end=\" \")\n",
        "i*=2"
      ],
      "metadata": {
        "id": "KrUf-ocEbCTu"
      },
      "execution_count": null,
      "outputs": []
    }
  ]
}