{
  "nbformat": 4,
  "nbformat_minor": 0,
  "metadata": {
    "colab": {
      "provenance": []
    },
    "kernelspec": {
      "name": "python3",
      "display_name": "Python 3"
    },
    "language_info": {
      "name": "python"
    }
  },
  "cells": [
    {
      "cell_type": "code",
      "source": [
        "#address=212\n",
        "print(3+3)"
      ],
      "metadata": {
        "colab": {
          "base_uri": "https://localhost:8080/"
        },
        "id": "DovwfwYcDJBM",
        "outputId": "f22ae91f-de2d-4abc-fde3-040030a5e8f8"
      },
      "execution_count": null,
      "outputs": [
        {
          "output_type": "stream",
          "name": "stdout",
          "text": [
            "6\n"
          ]
        }
      ]
    },
    {
      "cell_type": "code",
      "source": [
        "example=(1,\"parth\",3.12,False)\n",
        "print(example)\n",
        "print(len(example))\n",
        "print(type(example))\n",
        "print(example.count(1))\n",
        "print(example[0:3])\n",
        "print(example[3])\n",
        "print(example[-1])\n",
        "\n"
      ],
      "metadata": {
        "colab": {
          "base_uri": "https://localhost:8080/"
        },
        "id": "wynq_4iGEJ5k",
        "outputId": "0b518aee-bf23-468f-aee5-287ba69d0427"
      },
      "execution_count": null,
      "outputs": [
        {
          "output_type": "stream",
          "name": "stdout",
          "text": [
            "(1, 'parth', 3.12, False)\n",
            "4\n",
            "<class 'tuple'>\n",
            "1\n",
            "(1, 'parth', 3.12)\n",
            "False\n",
            "False\n"
          ]
        }
      ]
    },
    {
      "cell_type": "code",
      "source": [
        "number=(2,3,4,7,5,7)\n",
        "print(number)\n",
        "add=(2,4,5,7)\n",
        "print(number+add)\n",
        "print(add*4)\n"
      ],
      "metadata": {
        "colab": {
          "base_uri": "https://localhost:8080/"
        },
        "id": "_IJFHAOnIiOT",
        "outputId": "63687530-33ee-4e79-a274-80ece7661bc5"
      },
      "execution_count": null,
      "outputs": [
        {
          "output_type": "stream",
          "name": "stdout",
          "text": [
            "(2, 3, 4, 7, 5, 7)\n",
            "(2, 3, 4, 7, 5, 7, 2, 4, 5, 7)\n",
            "(2, 4, 5, 7, 2, 4, 5, 7, 2, 4, 5, 7, 2, 4, 5, 7)\n"
          ]
        }
      ]
    },
    {
      "cell_type": "code",
      "source": [
        "example={1,1,2,3,3,4,5,6,7}\n",
        "print(example)\n",
        "print(type(example))\n",
        "print(len(example))\n",
        "example.add(\"bkc\")\n",
        "print(example)\n",
        "example.add(5.67)\n",
        "print(example)\n",
        "example.add(\"True\")\n",
        "print(example)\n",
        "example.remove(4)\n",
        "print(example)\n",
        "print(example.pop())\n",
        "print(example)\n",
        "\n"
      ],
      "metadata": {
        "colab": {
          "base_uri": "https://localhost:8080/"
        },
        "id": "cpbOW9h2LUmU",
        "outputId": "4638ab6a-484f-472c-aa32-506e4481a8b7"
      },
      "execution_count": null,
      "outputs": [
        {
          "output_type": "stream",
          "name": "stdout",
          "text": [
            "{1, 2, 3, 4, 5, 6, 7}\n",
            "<class 'set'>\n",
            "7\n",
            "{1, 2, 3, 4, 5, 6, 7, 'bkc'}\n",
            "{1, 2, 3, 4, 5, 6, 7, 5.67, 'bkc'}\n",
            "{1, 2, 3, 4, 5, 6, 7, 5.67, 'bkc', 'True'}\n",
            "{1, 2, 3, 5, 6, 7, 5.67, 'bkc', 'True'}\n",
            "1\n",
            "{2, 3, 5, 6, 7, 5.67, 'bkc', 'True'}\n"
          ]
        }
      ]
    },
    {
      "cell_type": "code",
      "source": [
        "first={1,2,3,4,4,2}\n",
        "second={3,5,4,6}\n",
        "print(first|second)\n",
        "print(first.union(second))\n",
        "print(first&second)\n",
        "print(first.intersection(second))\n",
        "print(first.difference(second))\n",
        "print(second.difference(first))\n",
        "print(first-second)\n",
        "print(second-first)\n",
        "\n"
      ],
      "metadata": {
        "colab": {
          "base_uri": "https://localhost:8080/"
        },
        "id": "A9vL5xMhQ3Qj",
        "outputId": "a2156453-7b83-41a9-948d-c9abb7b45fd8"
      },
      "execution_count": null,
      "outputs": [
        {
          "output_type": "stream",
          "name": "stdout",
          "text": [
            "{1, 2, 3, 4, 5, 6}\n",
            "{1, 2, 3, 4, 5, 6}\n",
            "{3, 4}\n",
            "{3, 4}\n",
            "{1, 2}\n",
            "{5, 6}\n",
            "{1, 2}\n",
            "{5, 6}\n"
          ]
        }
      ]
    },
    {
      "cell_type": "code",
      "source": [
        "dict={\"roll_number\":201,\n",
        "      \"name\":\"parth\",\n",
        "      \"address\":\"mangavavi\",\n",
        "      \"cgpa\":99.5,\n",
        "      \"course\":\"bca\",\n",
        "      \"year\":2025}\n",
        "print(dict)\n",
        "print(len(dict))\n",
        "dict[\"gender\"]=\"male\"\n",
        "print(dict)\n",
        "print(len(dict))\n",
        "dict[\"mobile no\"]=8748952815\n",
        "print(dict)\n",
        "dict[\"college name\"]=\"bkc\"\n",
        "print(dict)\n",
        "print(dict.get(\"name\"))\n",
        "dict[\"college name\"]=\"tumukur\"\n",
        "print(dict)\n",
        "del dict[\"gender\"]\n",
        "print(dict)\n",
        "dict[\"gender\"]=\"male\"\n",
        "print(dict)\n",
        "print(dict[\"college name\"])\n",
        "dict[\"age\"]=20\n",
        "print(dict[\"age\"])\n",
        "dict.pop(\"address\")\n",
        "print(dict)\n",
        "print(dict.popitem())\n",
        "print(dict)\n",
        "print(dict.keys())\n",
        "print(dict.values())\n",
        "print(dict.items())\n",
        "print(dict.clear())\n",
        "\n",
        "\n",
        "\n"
      ],
      "metadata": {
        "colab": {
          "base_uri": "https://localhost:8080/"
        },
        "id": "rkprzxEI4Nua",
        "outputId": "741cd6de-5c02-4278-b3da-93e26e848931"
      },
      "execution_count": null,
      "outputs": [
        {
          "output_type": "stream",
          "name": "stdout",
          "text": [
            "{'roll_number': 201, 'name': 'parth', 'address': 'mangavavi', 'cgpa': 99.5, 'course': 'bca', 'year': 2025}\n",
            "6\n",
            "{'roll_number': 201, 'name': 'parth', 'address': 'mangavavi', 'cgpa': 99.5, 'course': 'bca', 'year': 2025, 'gender': 'male'}\n",
            "7\n",
            "{'roll_number': 201, 'name': 'parth', 'address': 'mangavavi', 'cgpa': 99.5, 'course': 'bca', 'year': 2025, 'gender': 'male', 'mobile no': 8748952815}\n",
            "{'roll_number': 201, 'name': 'parth', 'address': 'mangavavi', 'cgpa': 99.5, 'course': 'bca', 'year': 2025, 'gender': 'male', 'mobile no': 8748952815, 'college name': 'bkc'}\n",
            "parth\n",
            "{'roll_number': 201, 'name': 'parth', 'address': 'mangavavi', 'cgpa': 99.5, 'course': 'bca', 'year': 2025, 'gender': 'male', 'mobile no': 8748952815, 'college name': 'tumukur'}\n",
            "{'roll_number': 201, 'name': 'parth', 'address': 'mangavavi', 'cgpa': 99.5, 'course': 'bca', 'year': 2025, 'mobile no': 8748952815, 'college name': 'tumukur'}\n",
            "{'roll_number': 201, 'name': 'parth', 'address': 'mangavavi', 'cgpa': 99.5, 'course': 'bca', 'year': 2025, 'mobile no': 8748952815, 'college name': 'tumukur', 'gender': 'male'}\n",
            "tumukur\n",
            "20\n",
            "{'roll_number': 201, 'name': 'parth', 'cgpa': 99.5, 'course': 'bca', 'year': 2025, 'mobile no': 8748952815, 'college name': 'tumukur', 'gender': 'male', 'age': 20}\n",
            "('age', 20)\n",
            "{'roll_number': 201, 'name': 'parth', 'cgpa': 99.5, 'course': 'bca', 'year': 2025, 'mobile no': 8748952815, 'college name': 'tumukur', 'gender': 'male'}\n",
            "dict_keys(['roll_number', 'name', 'cgpa', 'course', 'year', 'mobile no', 'college name', 'gender'])\n",
            "dict_values([201, 'parth', 99.5, 'bca', 2025, 8748952815, 'tumukur', 'male'])\n",
            "dict_items([('roll_number', 201), ('name', 'parth'), ('cgpa', 99.5), ('course', 'bca'), ('year', 2025), ('mobile no', 8748952815), ('college name', 'tumukur'), ('gender', 'male')])\n",
            "None\n"
          ]
        }
      ]
    },
    {
      "cell_type": "code",
      "source": [
        "employe={\"employe-id\":101,\"employe name\":\"parth\",\"mo no\":1234567891,\"sallary\":20000,\"email_id\":\"pc471849@gmail.com\",\"company\":\"google\",\"employe habbits\":\"football\"}\n",
        "print(employe)\n",
        "employe[\"department\"]=\"developer\"\n",
        "print(employe)\n",
        "print(employe[\"sallary\"])\n",
        "print(len(employe))\n",
        "employe[\"department\"]=\"testing\"\n",
        "print(\"employe\")\n",
        "print(employe.keys())\n",
        "print(employe.items())\n",
        "print(employe.values())\n",
        "print(employe.clear())\n"
      ],
      "metadata": {
        "colab": {
          "base_uri": "https://localhost:8080/"
        },
        "id": "oyLBXozOLv7o",
        "outputId": "02a96351-c826-4e43-aa88-a840f4e2f524"
      },
      "execution_count": 159,
      "outputs": [
        {
          "output_type": "stream",
          "name": "stdout",
          "text": [
            "{'employe-id': 101, 'employe name': 'parth', 'mo no': 1234567891, 'sallary': 20000, 'email_id': 'pc471849@gmail.com', 'company': 'google', 'employe habbits': 'football'}\n",
            "{'employe-id': 101, 'employe name': 'parth', 'mo no': 1234567891, 'sallary': 20000, 'email_id': 'pc471849@gmail.com', 'company': 'google', 'employe habbits': 'football', 'department': 'developer'}\n",
            "20000\n",
            "8\n",
            "employe\n",
            "dict_keys(['employe-id', 'employe name', 'mo no', 'sallary', 'email_id', 'company', 'employe habbits', 'department'])\n",
            "dict_items([('employe-id', 101), ('employe name', 'parth'), ('mo no', 1234567891), ('sallary', 20000), ('email_id', 'pc471849@gmail.com'), ('company', 'google'), ('employe habbits', 'football'), ('department', 'testing')])\n",
            "dict_values([101, 'parth', 1234567891, 20000, 'pc471849@gmail.com', 'google', 'football', 'testing'])\n",
            "None\n"
          ]
        }
      ]
    },
    {
      "cell_type": "code",
      "source": [
        "name={\"Name\":\"parth\",\"name\":\"parth\",\"name\":\"parth\",\"f_name\":\"parth\",\"l_name\":\"parth\"}\n",
        "print(name)"
      ],
      "metadata": {
        "colab": {
          "base_uri": "https://localhost:8080/"
        },
        "id": "JPT9W0BnSuzO",
        "outputId": "757a9ddc-0b63-4d08-eafd-e7ce829df0b3"
      },
      "execution_count": null,
      "outputs": [
        {
          "output_type": "stream",
          "name": "stdout",
          "text": [
            "{'Name': 'parth', 'name': 'parth', 'f_name': 'parth', 'l_name': 'parth'}\n"
          ]
        }
      ]
    },
    {
      "cell_type": "code",
      "source": [
        "a=10\n",
        "print(a)\n",
        "b=3\n",
        "print(b)\n",
        "c=a/b\n",
        "print(type(c))"
      ],
      "metadata": {
        "colab": {
          "base_uri": "https://localhost:8080/"
        },
        "id": "QioUNwz1eJsB",
        "outputId": "503aab3a-fd8a-4474-fd16-790437503d0b"
      },
      "execution_count": 164,
      "outputs": [
        {
          "output_type": "stream",
          "name": "stdout",
          "text": [
            "10\n",
            "3\n",
            "<class 'float'>\n"
          ]
        }
      ]
    },
    {
      "cell_type": "code",
      "source": [
        "a=10\n",
        "b=3\n",
        "c=a+b\n",
        "print(type(c))\n",
        "print(type(a))\n",
        "print(type(b))\n",
        "print(type(a/b))\n",
        "x=2.5\n",
        "y=3.5\n",
        "print(type(x+y))"
      ],
      "metadata": {
        "colab": {
          "base_uri": "https://localhost:8080/"
        },
        "id": "BgEVGfZbfMxo",
        "outputId": "ea56a79f-eb5c-429f-ac7c-b9e4dd1be76d"
      },
      "execution_count": 169,
      "outputs": [
        {
          "output_type": "stream",
          "name": "stdout",
          "text": [
            "<class 'int'>\n",
            "<class 'int'>\n",
            "<class 'int'>\n",
            "<class 'float'>\n",
            "<class 'float'>\n"
          ]
        }
      ]
    },
    {
      "cell_type": "code",
      "source": [
        "m=2.9\n",
        "n=False\n",
        "o=m-n\n",
        "print(type(o))\n",
        "p=True\n",
        "q=False\n",
        "r=p+q\n",
        "print(type(r))\n",
        "\n",
        "s=2.6\n",
        "t=False\n",
        "print(type(s+t))\n",
        "\n",
        "p=77\n",
        "q=False\n",
        "r=p+q\n",
        "print(type(r))\n",
        "# implicit\n",
        "num=3.12\n",
        "print(type(num))\n",
        "add=int(num)\n",
        "# explcit\n",
        "print(type(add))\n",
        "add=str(num)\n",
        "print(type(add))\n",
        "add=float(num)\n",
        "print(type(num))\n"
      ],
      "metadata": {
        "colab": {
          "base_uri": "https://localhost:8080/"
        },
        "id": "-whyEw14goMZ",
        "outputId": "d7945ec5-ca87-449d-a320-c0e82f9dfc67"
      },
      "execution_count": 192,
      "outputs": [
        {
          "output_type": "stream",
          "name": "stdout",
          "text": [
            "<class 'float'>\n",
            "<class 'int'>\n",
            "<class 'float'>\n",
            "<class 'int'>\n",
            "<class 'float'>\n",
            "<class 'int'>\n",
            "<class 'str'>\n",
            "<class 'float'>\n"
          ]
        }
      ]
    },
    {
      "cell_type": "code",
      "source": [
        "from ctypes import DEFAULT_MODE\n",
        "num=\"101\"\n",
        "print(type(num))\n",
        "add=int(num)\n",
        "print(type(add))\n",
        "\n",
        "\n",
        "num=True\n",
        "print(type(num))\n",
        "add=int(num)\n",
        "print(type(add))\n",
        "\n",
        "print(type(str(100)))\n",
        "\n",
        "a=10\n",
        "print(type(a))\n",
        "add=bool(a)\n",
        "print(type(add))\n",
        "\n",
        "men=1\n",
        "print(type(men))\n",
        "print(type(bool(men)))\n",
        "\n",
        "demo=9.9\n",
        "print(type(demo))\n",
        "print(type(str(demo)))\n",
        "\n",
        "men=9.99\n",
        "print(type(men))\n",
        "print(type(bool(men)))\n",
        "\n",
        "demo=True\n",
        "print(type(demo))\n",
        "print(type(str(demo)))\n",
        "\n",
        "men=False\n",
        "print(type(men))\n",
        "print(type(float(men)))\n",
        "\n",
        "demo=False\n",
        "print(type(demo))\n",
        "ex=float(demo)\n",
        "print(type(ex))\n",
        "\n",
        "a=\"101\"\n",
        "print(type(a))\n",
        "print(type(float(a)))\n",
        "\n",
        "a=\"False\"\n",
        "print(type(a))\n",
        "print(type(bool(a)))\n",
        "\n",
        "a=\"parth\"\n",
        "print(type(a))\n",
        "print(type(list(a)))\n",
        "\n",
        "a=10,20\n",
        "print(type(a))\n",
        "print(type(str(a)))\n",
        "\n",
        "a=1,2,3\n",
        "print(type(a))\n",
        "print(type(list(a)))\n",
        "\n",
        "a={1,2,3}\n",
        "print(type(a))\n",
        "print(type(list(a)))\n",
        "\n",
        "a={\"name\":\"parth\",\"age\":20,\"address\":\"mangavavi\"}\n",
        "print(type(a))\n",
        "print(type(list(a)))\n",
        "\n",
        "a='par'+'th'\n",
        "print(type(a))\n",
        "print(tuple(a))\n",
        "a=[(\"a\",1),(\"b\",2),(\"c\",3)]\n",
        "print(type(a))\n",
        "print(type(tuple(a)))\n",
        "\n",
        "a={1,2,3}\n",
        "print(type(a))\n",
        "print(type(tuple(a)))\n",
        "\n",
        "a={\"name\":\"parth\",\"age\":20}\n",
        "print(type(a))\n",
        "print(type(tuple(a)))\n"
      ],
      "metadata": {
        "colab": {
          "base_uri": "https://localhost:8080/"
        },
        "id": "RISbFXIim95Z",
        "outputId": "b0c19f90-c58a-4d22-8dc8-700f2b71fb5e"
      },
      "execution_count": 270,
      "outputs": [
        {
          "output_type": "stream",
          "name": "stdout",
          "text": [
            "<class 'str'>\n",
            "<class 'int'>\n",
            "<class 'bool'>\n",
            "<class 'int'>\n",
            "<class 'str'>\n",
            "<class 'int'>\n",
            "<class 'bool'>\n",
            "<class 'int'>\n",
            "<class 'bool'>\n",
            "<class 'float'>\n",
            "<class 'str'>\n",
            "<class 'float'>\n",
            "<class 'bool'>\n",
            "<class 'bool'>\n",
            "<class 'str'>\n",
            "<class 'bool'>\n",
            "<class 'float'>\n",
            "<class 'bool'>\n",
            "<class 'float'>\n",
            "<class 'str'>\n",
            "<class 'float'>\n",
            "<class 'str'>\n",
            "<class 'bool'>\n",
            "<class 'str'>\n",
            "<class 'list'>\n",
            "<class 'tuple'>\n",
            "<class 'str'>\n",
            "<class 'tuple'>\n",
            "<class 'list'>\n",
            "<class 'set'>\n",
            "<class 'list'>\n",
            "<class 'dict'>\n",
            "<class 'list'>\n",
            "<class 'str'>\n",
            "('p', 'a', 'r', 't', 'h')\n",
            "<class 'list'>\n",
            "<class 'tuple'>\n",
            "<class 'set'>\n",
            "<class 'tuple'>\n",
            "<class 'dict'>\n",
            "<class 'tuple'>\n"
          ]
        }
      ]
    },
    {
      "cell_type": "code",
      "source": [
        "a=10\n",
        "b=20\n",
        "print(\"a=20,b=10\")\n",
        "\n",
        "a=10\n",
        "b=20\n",
        "temp=0\n",
        "print(\"before swapping\")\n",
        "print(\"a=\",a,\"b=\",b)\n",
        "print(\"=========\")\n",
        "print(\"after swapping\")\n",
        "temp=a\n",
        "a=b\n",
        "b=temp\n",
        "print(\"a=\",a,\"b=\",b)\n",
        "\n",
        "a=10\n",
        "b=20\n",
        "print(\"before swapping\")\n",
        "print(\"a=\",a,\"b=\",b)\n",
        "print(\"=========\")\n",
        "print(\"after swapping\")\n",
        "a=a+b\n",
        "b=a-b\n",
        "a=a+b\n",
        "print(\"a=\",\"b=\",b)"
      ],
      "metadata": {
        "colab": {
          "base_uri": "https://localhost:8080/"
        },
        "id": "kqLZedmF1OrM",
        "outputId": "54c32ba5-8167-4bfb-d92f-ff864bf5932d"
      },
      "execution_count": 289,
      "outputs": [
        {
          "output_type": "stream",
          "name": "stdout",
          "text": [
            "a=20,b=10\n",
            "before swapping\n",
            "a= 10 b= 20\n",
            "=========\n",
            "after swapping\n",
            "a= 20 b= 10\n",
            "before swapping\n",
            "a= 10 b= 20\n",
            "=========\n",
            "after swapping\n",
            "a= b= 10\n"
          ]
        }
      ]
    }
  ]
}