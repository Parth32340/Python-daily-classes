{
  "nbformat": 4,
  "nbformat_minor": 0,
  "metadata": {
    "colab": {
      "provenance": []
    },
    "kernelspec": {
      "name": "python3",
      "display_name": "Python 3"
    },
    "language_info": {
      "name": "python"
    }
  },
  "cells": [
    {
      "cell_type": "code",
      "source": [
        "print(\"hello word\")"
      ],
      "metadata": {
        "colab": {
          "base_uri": "https://localhost:8080/"
        },
        "id": "XiUEhCaFr8Ku",
        "outputId": "f23e25ea-e69a-43af-ffed-52a968f47aae"
      },
      "execution_count": 5,
      "outputs": [
        {
          "output_type": "stream",
          "name": "stdout",
          "text": [
            "hello word\n"
          ]
        }
      ]
    },
    {
      "cell_type": "code",
      "source": [
        "print(\"good morning\")"
      ],
      "metadata": {
        "colab": {
          "base_uri": "https://localhost:8080/"
        },
        "id": "d_e4ISenrjaZ",
        "outputId": "7b077571-0a21-4a55-9c6a-502b032e2b1f"
      },
      "execution_count": 3,
      "outputs": [
        {
          "output_type": "stream",
          "name": "stdout",
          "text": [
            "good morning\n"
          ]
        }
      ]
    },
    {
      "cell_type": "code",
      "source": [
        "print(\"KLE BCA BBA BK COLLEGE CHIKODI\")"
      ],
      "metadata": {
        "colab": {
          "base_uri": "https://localhost:8080/"
        },
        "id": "QsS3IoVrrzjq",
        "outputId": "41b94f11-3022-4873-83ca-1d5bba99d7c9"
      },
      "execution_count": 6,
      "outputs": [
        {
          "output_type": "stream",
          "name": "stdout",
          "text": [
            "KLE BCA BBA BK COLLEGE CHIKODI\n"
          ]
        }
      ]
    },
    {
      "cell_type": "code",
      "source": [
        "print(\"kle pu bk college chikodi\")"
      ],
      "metadata": {
        "colab": {
          "base_uri": "https://localhost:8080/"
        },
        "id": "DtDiddrZsV72",
        "outputId": "1bfdf1e8-cb99-45ab-c053-a2cd0d603ffa"
      },
      "execution_count": 7,
      "outputs": [
        {
          "output_type": "stream",
          "name": "stdout",
          "text": [
            "kle pu bk college chikodi\n"
          ]
        }
      ]
    },
    {
      "cell_type": "code",
      "source": [
        "print(\"parth\")"
      ],
      "metadata": {
        "colab": {
          "base_uri": "https://localhost:8080/"
        },
        "id": "A9fzWnDmstpX",
        "outputId": "a2ef1777-2b14-4f87-fb9b-01cdca6f59cd"
      },
      "execution_count": 8,
      "outputs": [
        {
          "output_type": "stream",
          "name": "stdout",
          "text": [
            "parth\n"
          ]
        }
      ]
    },
    {
      "cell_type": "code",
      "source": [
        "print(5+5)"
      ],
      "metadata": {
        "colab": {
          "base_uri": "https://localhost:8080/"
        },
        "id": "g-jzKjDutbBm",
        "outputId": "d381afdd-5d0c-4b18-9c3f-fb6d24b232d3"
      },
      "execution_count": 10,
      "outputs": [
        {
          "output_type": "stream",
          "name": "stdout",
          "text": [
            "10\n"
          ]
        }
      ]
    }
  ]
}