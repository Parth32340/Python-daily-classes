{
  "nbformat": 4,
  "nbformat_minor": 0,
  "metadata": {
    "colab": {
      "provenance": []
    },
    "kernelspec": {
      "name": "python3",
      "display_name": "Python 3"
    },
    "language_info": {
      "name": "python"
    }
  },
  "cells": [
    {
      "cell_type": "code",
      "source": [
        "example=[\"laptop\",29000,\"window\",\"lenovo\",\"bengaluru\",\"laptop\",29000,\"mac\",\"lenovo\",\"chikodi\"]\n",
        "print(example)\n",
        "print(example.count(\"lenovo\"))"
      ],
      "metadata": {
        "colab": {
          "base_uri": "https://localhost:8080/"
        },
        "id": "fCC5wwqXZEsG",
        "outputId": "133c96a7-ae6a-4125-e915-50b16ce305a8"
      },
      "execution_count": null,
      "outputs": [
        {
          "output_type": "stream",
          "name": "stdout",
          "text": [
            "['laptop', 29000, 'window', 'lenovo', 'bengaluru', 'laptop', 29000, 'mac', 'lenovo', 'chikodi']\n",
            "2\n"
          ]
        }
      ]
    },
    {
      "cell_type": "code",
      "source": [
        "a=10\n",
        "b=20\n",
        "print(a+b)\n",
        "\n",
        "x=int(input(\"enter  x value:\"))\n",
        "y=int(input(\"enter  y value:\"))\n",
        "print(x+y)\n",
        "\n",
        "x=int(input(\"enter x value:\"))\n",
        "y=int(input(\"enter y value:\"))\n",
        "print(\"addition of\",x,\"and\",y,\"value is=\",x+y)\n"
      ],
      "metadata": {
        "colab": {
          "base_uri": "https://localhost:8080/"
        },
        "id": "8wEp9EWTbBc2",
        "outputId": "c5662161-cda8-47c3-e6ce-693a647201bc"
      },
      "execution_count": null,
      "outputs": [
        {
          "output_type": "stream",
          "name": "stdout",
          "text": [
            "30\n",
            "enter  x value:10\n",
            "enter  y value:20\n",
            "30\n",
            "enter x value:10\n",
            "enter y value:20\n",
            "addition of 10 and 20 value is= 30\n"
          ]
        }
      ]
    },
    {
      "cell_type": "code",
      "source": [
        "first_name =input(\"enter first name:\")\n",
        "last_name=input(\"enter second name:\")\n",
        "print(first_name +\" \"+last_name)"
      ],
      "metadata": {
        "colab": {
          "base_uri": "https://localhost:8080/"
        },
        "id": "OO1UK8eQfOm9",
        "outputId": "766d9892-d49d-4294-98fe-3511e2a5ecdc"
      },
      "execution_count": null,
      "outputs": [
        {
          "output_type": "stream",
          "name": "stdout",
          "text": [
            "enter first name:parth\n",
            "enter second name:chavhan\n",
            "parth chavhan\n"
          ]
        }
      ]
    },
    {
      "cell_type": "code",
      "source": [
        "i=int(input(\"enter the value:\"))\n",
        "j=int(input(\"enter the value:\"))\n",
        "print(i*j)"
      ],
      "metadata": {
        "colab": {
          "base_uri": "https://localhost:8080/"
        },
        "id": "iJQaPH-phAXk",
        "outputId": "07628c8b-41e4-4a01-b63b-441665faffe8"
      },
      "execution_count": null,
      "outputs": [
        {
          "output_type": "stream",
          "name": "stdout",
          "text": [
            "enter the value:7\n",
            "enter the value:6\n",
            "42\n"
          ]
        }
      ]
    },
    {
      "cell_type": "code",
      "source": [
        "print(\"hellow word\")"
      ],
      "metadata": {
        "colab": {
          "base_uri": "https://localhost:8080/"
        },
        "id": "QSLc932w0kzQ",
        "outputId": "1d39f3b3-8eea-4b6e-e97a-593ab8d6c36e"
      },
      "execution_count": null,
      "outputs": [
        {
          "output_type": "stream",
          "name": "stdout",
          "text": [
            "hellow word\n"
          ]
        }
      ]
    },
    {
      "cell_type": "code",
      "source": [
        "i=input()\n",
        "j=input()\n",
        "print(i+\" \"+j)"
      ],
      "metadata": {
        "colab": {
          "base_uri": "https://localhost:8080/"
        },
        "id": "kmYbITU31sVf",
        "outputId": "9b6f25c9-fd23-42e6-f9ba-da8352834a6f"
      },
      "execution_count": null,
      "outputs": [
        {
          "output_type": "stream",
          "name": "stdout",
          "text": [
            "bkc\n",
            "collge\n",
            "bkc collge\n"
          ]
        }
      ]
    },
    {
      "cell_type": "code",
      "source": [
        "a=100\n",
        "b=50\n",
        "print(f'divition of {a} and {y} value is = {a/b}')"
      ],
      "metadata": {
        "colab": {
          "base_uri": "https://localhost:8080/"
        },
        "id": "1wMB8Z_V2Bqf",
        "outputId": "ffc4bb6d-a7d9-4c08-8caa-1dfb2a4568a2"
      },
      "execution_count": null,
      "outputs": [
        {
          "output_type": "stream",
          "name": "stdout",
          "text": [
            "divition of 100 and 20 value is = 2.0\n"
          ]
        }
      ]
    },
    {
      "cell_type": "code",
      "source": [
        "a=100\n",
        "b=50\n",
        "print(f\"addtion of {a} and {b} value is = {a+b}\")"
      ],
      "metadata": {
        "colab": {
          "base_uri": "https://localhost:8080/"
        },
        "id": "5YzKBhM75GCe",
        "outputId": "a7361edc-98c5-418d-f7ea-3e829d78f368"
      },
      "execution_count": null,
      "outputs": [
        {
          "output_type": "stream",
          "name": "stdout",
          "text": [
            "addtion of 100 and 50 value is = 150\n"
          ]
        }
      ]
    },
    {
      "cell_type": "code",
      "source": [
        "name=\"parth\"\n",
        "course=\"mca\"\n",
        "year=2024\n",
        "department=\"bca\"\n",
        "pincode=591201\n",
        "print(f\"hi,good morning my name is {name},i have completed {course},in the year of {year},currently i'm working in kle bk {department},college chikodi {pincode}\")"
      ],
      "metadata": {
        "colab": {
          "base_uri": "https://localhost:8080/"
        },
        "id": "48_7It0q5RKn",
        "outputId": "9f105621-b8a4-47d7-a37b-6dc9ce162db6"
      },
      "execution_count": null,
      "outputs": [
        {
          "output_type": "stream",
          "name": "stdout",
          "text": [
            "hi,good morning my name is parth,i have completed mca,in the year of 2024,currently i'm working in kle bk bca,college chikodi 591201\n"
          ]
        }
      ]
    },
    {
      "cell_type": "code",
      "source": [
        "a=10\n",
        "b=5\n",
        "sum=(a*b)\n",
        "print(sum)\n",
        "\n",
        "#arithmatic operators\n",
        "a=5\n",
        "b=2\n",
        "sum=(a/b)\n",
        "print(sum)\n"
      ],
      "metadata": {
        "colab": {
          "base_uri": "https://localhost:8080/"
        },
        "id": "5LqPgrPc9pzF",
        "outputId": "04ea00e0-0ce5-4d87-ec32-4f59644c1e32"
      },
      "execution_count": null,
      "outputs": [
        {
          "output_type": "stream",
          "name": "stdout",
          "text": [
            "50\n",
            "2.5\n",
            "125\n"
          ]
        }
      ]
    },
    {
      "cell_type": "code",
      "source": [
        "a=2\n",
        "b=4\n",
        "sum=(a+b)\n",
        "print(sum)\n",
        "\n",
        "sum=(a-b)\n",
        "print(sum)\n",
        "\n",
        "sum=(a*b)\n",
        "print(sum)\n",
        "\n",
        "sum=(a/b)\n",
        "print(sum)\n",
        "\n",
        "sum=(a//b)\n",
        "print(sum)\n",
        "\n",
        "sum=(a%b)\n",
        "print(sum)\n",
        "\n",
        "sum=(a**b)\n",
        "print(sum)"
      ],
      "metadata": {
        "colab": {
          "base_uri": "https://localhost:8080/"
        },
        "id": "9HHvhcRvAZJ0",
        "outputId": "a3600b64-2024-4a6f-974d-2a6dea38b04e"
      },
      "execution_count": null,
      "outputs": [
        {
          "output_type": "stream",
          "name": "stdout",
          "text": [
            "6\n",
            "-2\n",
            "8\n",
            "0.5\n",
            "0\n",
            "2\n",
            "16\n"
          ]
        }
      ]
    },
    {
      "cell_type": "code",
      "source": [
        "a=2\n",
        "b=4\n",
        "sum=(a+b,a-b,a*b,a/b,a//b,a%b,a**b)\n",
        "print(sum)"
      ],
      "metadata": {
        "colab": {
          "base_uri": "https://localhost:8080/"
        },
        "id": "Z2kOeoqxBbKD",
        "outputId": "0af8aab6-450b-4c08-f13b-cb93db537749"
      },
      "execution_count": null,
      "outputs": [
        {
          "output_type": "stream",
          "name": "stdout",
          "text": [
            "(6, -2, 8, 0.5, 0, 2, 16)\n"
          ]
        }
      ]
    },
    {
      "cell_type": "code",
      "source": [
        "a=int(input(\"enter the value:\"))\n",
        "b=int(input(\"enter the value:\"))\n",
        "sum=(a+b,a-b,a*b,a/b,a//b,a%b,a**b)\n",
        "print(sum)"
      ],
      "metadata": {
        "colab": {
          "base_uri": "https://localhost:8080/"
        },
        "id": "Z7OsLmZcB6LE",
        "outputId": "4fbdf6f0-8779-4f3e-e322-25c1da484581"
      },
      "execution_count": null,
      "outputs": [
        {
          "output_type": "stream",
          "name": "stdout",
          "text": [
            "enter the value:2\n",
            "enter the value:4\n",
            "(6, -2, 8, 0.5, 0, 2, 16)\n"
          ]
        }
      ]
    },
    {
      "cell_type": "code",
      "source": [
        "a=35\n",
        "b=40\n",
        "sum=(a==b,a!=b,a>b,a<b,a>=b,a<=b)\n",
        "print(sum)"
      ],
      "metadata": {
        "colab": {
          "base_uri": "https://localhost:8080/"
        },
        "id": "Ea5wfKTcCwLr",
        "outputId": "597b502e-9e65-4e5f-b33c-942037d9a152"
      },
      "execution_count": null,
      "outputs": [
        {
          "output_type": "stream",
          "name": "stdout",
          "text": [
            "(False, True, False, True, False, True)\n"
          ]
        }
      ]
    },
    {
      "cell_type": "code",
      "source": [
        "a=35\n",
        "b=40\n",
        "print(a>b)\n",
        "print(b<a)\n",
        "print(a<=b)\n",
        "print(a==35)\n",
        "print(a!=b)\n",
        "print(b>=40)\n",
        "print(a==b)"
      ],
      "metadata": {
        "colab": {
          "base_uri": "https://localhost:8080/"
        },
        "id": "1sW7yvcPKvJ5",
        "outputId": "af45c990-14d1-4013-825c-740e1d5ecd2a"
      },
      "execution_count": null,
      "outputs": [
        {
          "output_type": "stream",
          "name": "stdout",
          "text": [
            "False\n",
            "False\n",
            "True\n",
            "True\n",
            "True\n",
            "True\n",
            "False\n"
          ]
        }
      ]
    },
    {
      "cell_type": "code",
      "source": [
        "a=20\n",
        "b=35\n",
        "c=13\n",
        "d=10\n",
        "print(a==b and c>d)\n",
        "print(13!=c and d>c)\n",
        "print(b>a and d<c)\n",
        "print(20 != a and c==b)\n",
        "\n",
        "print(a<b or d==c)\n",
        "print((not(a<b)) and 100<200)\n",
        "print(not(d==10))\n",
        "print(35!=d or (not(20==a)))\n",
        "print(not(c<=b and (not(a<=c))))"
      ],
      "metadata": {
        "colab": {
          "base_uri": "https://localhost:8080/"
        },
        "id": "w04tM3myMOQQ",
        "outputId": "6f385d84-4f33-45a9-a694-15b0892636b7"
      },
      "execution_count": null,
      "outputs": [
        {
          "output_type": "stream",
          "name": "stdout",
          "text": [
            "False\n",
            "False\n",
            "True\n",
            "False\n",
            "True\n",
            "False\n",
            "False\n",
            "True\n",
            "False\n"
          ]
        }
      ]
    },
    {
      "cell_type": "code",
      "source": [
        "x=10\n",
        "print(x)\n",
        "\n",
        "x=10\n",
        "x-=2\n",
        "print(x)\n",
        "\n",
        "x*=5\n",
        "print(x)\n",
        "\n",
        "\n",
        "x//=3\n",
        "print(x)\n",
        "\n",
        "x**=2\n",
        "print(x)\n",
        "\n",
        "x%=4\n",
        "print(x)\n",
        "\n",
        "x+=9\n",
        "print(x)\n",
        "\n",
        "x/=3\n",
        "print(x)\n"
      ],
      "metadata": {
        "colab": {
          "base_uri": "https://localhost:8080/"
        },
        "id": "ny9YeShtR7Qf",
        "outputId": "7173f0a1-e991-4f48-826c-7283bf59e0d7"
      },
      "execution_count": null,
      "outputs": [
        {
          "output_type": "stream",
          "name": "stdout",
          "text": [
            "10\n",
            "8\n",
            "40\n",
            "13\n",
            "169\n",
            "1\n",
            "10\n",
            "3.3333333333333335\n"
          ]
        }
      ]
    },
    {
      "cell_type": "code",
      "source": [
        "num=9\n",
        "if num<10 :\n",
        "  print(\"10  is a greater than 9\")\n",
        "\n",
        "  user_id=\"20mca103\"\n",
        "  password=1234\n",
        "  if user_id==\"20mca103\" and password== 1234:\n",
        "    print(\"login succesfully\")\n",
        "\n",
        "    ex=59\n",
        "    if ex==58:\n",
        "      print(\"are you understand\")\n",
        "\n",
        "      name=\"parth\"\n",
        "      if name<=bkc:\n",
        "        print(\"my name is parth\")"
      ],
      "metadata": {
        "colab": {
          "base_uri": "https://localhost:8080/"
        },
        "id": "7RZEuBINIhEY",
        "outputId": "7dba50d6-6342-4234-afa0-e6693fbe704f"
      },
      "execution_count": 118,
      "outputs": [
        {
          "output_type": "stream",
          "name": "stdout",
          "text": [
            "10  is a greater than 9\n",
            "login succesfully\n"
          ]
        }
      ]
    },
    {
      "cell_type": "code",
      "source": [
        "num=int(input(\"enter a number value:\"))\n",
        "if num > 0:\n",
        "        print(\"positive number\")\n",
        "else:\n",
        "        print(\"negative number\")\n"
      ],
      "metadata": {
        "colab": {
          "base_uri": "https://localhost:8080/"
        },
        "id": "psFc5tjLNabA",
        "outputId": "5ba1c2fd-173e-4892-c741-25089bd31416"
      },
      "execution_count": 128,
      "outputs": [
        {
          "output_type": "stream",
          "name": "stdout",
          "text": [
            "enter a number value:99\n",
            "positive number\n"
          ]
        }
      ]
    },
    {
      "cell_type": "code",
      "source": [
        "num=int(input(\"enter  number value:\"))\n",
        "if num %2==0:\n",
        "  print(\"even number\")\n",
        "else:\n",
        "  print(\"odd number\")"
      ],
      "metadata": {
        "id": "t6DzdITRPuLy",
        "outputId": "894bcde9-2c06-4283-924b-a8e91e15cd6e",
        "colab": {
          "base_uri": "https://localhost:8080/"
        }
      },
      "execution_count": 130,
      "outputs": [
        {
          "output_type": "stream",
          "name": "stdout",
          "text": [
            "enter  number value:22\n",
            "even number\n"
          ]
        }
      ]
    },
    {
      "cell_type": "code",
      "source": [
        "age=int(input(\"enter age value:\"))\n",
        "if age>=18:\n",
        "  print(\"you are eligible for vote\")\n",
        "else:\n",
        " print(\"you are not eligible for vote\")"
      ],
      "metadata": {
        "id": "ggv6NNZqRIqQ",
        "outputId": "24b955d8-f7ac-4a1a-fe26-47c368989348",
        "colab": {
          "base_uri": "https://localhost:8080/"
        }
      },
      "execution_count": 142,
      "outputs": [
        {
          "output_type": "stream",
          "name": "stdout",
          "text": [
            "enter age value:23\n",
            "you are eligible for vote\n"
          ]
        }
      ]
    },
    {
      "cell_type": "code",
      "source": [
        "age=int(input(\"enter age value:\"))\n",
        "if age>=17:\n",
        "  print(\"they are eligible to take addmition\")\n",
        "else:\n",
        "  print(\"they are not eligible to take addmition\")"
      ],
      "metadata": {
        "id": "PHwCHVY1TycQ",
        "outputId": "f907faa3-00df-4bb8-80d2-22ce29f94f4c",
        "colab": {
          "base_uri": "https://localhost:8080/"
        }
      },
      "execution_count": 143,
      "outputs": [
        {
          "output_type": "stream",
          "name": "stdout",
          "text": [
            "enter age value:23\n",
            "they are eligible to take addmition\n"
          ]
        }
      ]
    },
    {
      "cell_type": "code",
      "source": [
        "user_id= (input(\"enter user_id value:\"))\n",
        "password= (input(\"enter password value:\"))\n",
        "if user_id==\"college\" and password==\"1234\":\n",
        "  print(\"login succesfully\")\n",
        "else:\n",
        "  print(\"invalid details\")"
      ],
      "metadata": {
        "id": "LM41LMhKUalo",
        "outputId": "0a6141d6-57a7-45e8-dff9-888aad0716cd",
        "colab": {
          "base_uri": "https://localhost:8080/"
        }
      },
      "execution_count": 157,
      "outputs": [
        {
          "output_type": "stream",
          "name": "stdout",
          "text": [
            "enter user_id value:college\n",
            "enter password value:1234\n",
            "login succesfully\n"
          ]
        }
      ]
    },
    {
      "cell_type": "code",
      "source": [
        "marks=int(input(\"enter marks value:\"))\n",
        "if marks >=85:\n",
        "  print(\"distingtion\")\n",
        "elif marks >=75:\n",
        "  print(\"pass\")\n",
        "elif marks >=55:\n",
        "  print(\"just pass\")\n",
        "elif marks >=35:\n",
        "  print(\"fail beter luck next time\")"
      ],
      "metadata": {
        "id": "E9pB8-qQY8i5",
        "outputId": "b7252791-6c90-4500-f9e5-aed7de65db1c",
        "colab": {
          "base_uri": "https://localhost:8080/"
        }
      },
      "execution_count": 171,
      "outputs": [
        {
          "output_type": "stream",
          "name": "stdout",
          "text": [
            "enter marks value:110\n",
            "distingtion\n"
          ]
        }
      ]
    },
    {
      "cell_type": "code",
      "source": [
        "prize=(input(\"enter prize medal:\"))\n",
        "if prize== \"gold\" :\n",
        "   print(\"first prize\")\n",
        "elif prize==\"selver\":\n",
        "    print(\"second prize\")\n",
        "elif prize== \"bronze\":\n",
        "     print(\"third prize\")\n",
        "else:\n",
        "  print(\"beter luck next time\")"
      ],
      "metadata": {
        "id": "BDk-3BWXcdYX",
        "outputId": "9682a740-f081-49a1-fd79-eeb38aae55d0",
        "colab": {
          "base_uri": "https://localhost:8080/"
        }
      },
      "execution_count": 181,
      "outputs": [
        {
          "output_type": "stream",
          "name": "stdout",
          "text": [
            "enter prize medal:selver\n",
            "second prize\n"
          ]
        }
      ]
    },
    {
      "cell_type": "code",
      "source": [
        "signal=input(\"enter colure of signal\")\n",
        "if signal== \"red\":\n",
        "  print(\"stop\")\n",
        "elif signal== \"green\":\n",
        "  print(\"go\")\n",
        "elif signal== \"yellow\":\n",
        "  print(\"redy to go\")\n",
        "else:\n",
        "  print(\"invalid signal\")"
      ],
      "metadata": {
        "id": "SRQPmLyEfPq4",
        "outputId": "fe150623-c893-4c79-c3cc-b8bb5e26511e",
        "colab": {
          "base_uri": "https://localhost:8080/"
        }
      },
      "execution_count": 189,
      "outputs": [
        {
          "output_type": "stream",
          "name": "stdout",
          "text": [
            "enter colure of signalyellow\n",
            "redy to go\n"
          ]
        }
      ]
    },
    {
      "cell_type": "code",
      "source": [],
      "metadata": {
        "id": "vbAbeRMFipd_"
      },
      "execution_count": null,
      "outputs": []
    }
  ]
}