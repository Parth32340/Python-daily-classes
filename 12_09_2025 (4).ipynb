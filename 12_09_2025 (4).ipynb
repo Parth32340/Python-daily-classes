{
  "nbformat": 4,
  "nbformat_minor": 0,
  "metadata": {
    "colab": {
      "provenance": [],
      "toc_visible": true
    },
    "kernelspec": {
      "name": "python3",
      "display_name": "Python 3"
    },
    "language_info": {
      "name": "python"
    }
  },
  "cells": [
    {
      "cell_type": "code",
      "source": [
        "print(\"hello word\")"
      ],
      "metadata": {
        "colab": {
          "base_uri": "https://localhost:8080/"
        },
        "id": "XiUEhCaFr8Ku",
        "outputId": "f23e25ea-e69a-43af-ffed-52a968f47aae"
      },
      "execution_count": null,
      "outputs": [
        {
          "output_type": "stream",
          "name": "stdout",
          "text": [
            "hello word\n"
          ]
        }
      ]
    },
    {
      "cell_type": "code",
      "source": [
        "print(\"good morning\")"
      ],
      "metadata": {
        "colab": {
          "base_uri": "https://localhost:8080/"
        },
        "id": "d_e4ISenrjaZ",
        "outputId": "7b077571-0a21-4a55-9c6a-502b032e2b1f"
      },
      "execution_count": null,
      "outputs": [
        {
          "output_type": "stream",
          "name": "stdout",
          "text": [
            "good morning\n"
          ]
        }
      ]
    },
    {
      "cell_type": "code",
      "source": [
        "print(\"KLE BCA BBA BK COLLEGE CHIKODI\")"
      ],
      "metadata": {
        "colab": {
          "base_uri": "https://localhost:8080/"
        },
        "id": "QsS3IoVrrzjq",
        "outputId": "41b94f11-3022-4873-83ca-1d5bba99d7c9"
      },
      "execution_count": null,
      "outputs": [
        {
          "output_type": "stream",
          "name": "stdout",
          "text": [
            "KLE BCA BBA BK COLLEGE CHIKODI\n"
          ]
        }
      ]
    },
    {
      "cell_type": "code",
      "source": [
        "print(\"kle pu bk college chikodi\")"
      ],
      "metadata": {
        "colab": {
          "base_uri": "https://localhost:8080/"
        },
        "id": "DtDiddrZsV72",
        "outputId": "1bfdf1e8-cb99-45ab-c053-a2cd0d603ffa"
      },
      "execution_count": null,
      "outputs": [
        {
          "output_type": "stream",
          "name": "stdout",
          "text": [
            "kle pu bk college chikodi\n"
          ]
        }
      ]
    },
    {
      "cell_type": "code",
      "source": [
        "print(\"parth\")"
      ],
      "metadata": {
        "colab": {
          "base_uri": "https://localhost:8080/"
        },
        "id": "A9fzWnDmstpX",
        "outputId": "a2ef1777-2b14-4f87-fb9b-01cdca6f59cd"
      },
      "execution_count": null,
      "outputs": [
        {
          "output_type": "stream",
          "name": "stdout",
          "text": [
            "parth\n"
          ]
        }
      ]
    },
    {
      "cell_type": "code",
      "source": [
        "print(5+5)"
      ],
      "metadata": {
        "colab": {
          "base_uri": "https://localhost:8080/"
        },
        "id": "g-jzKjDutbBm",
        "outputId": "d381afdd-5d0c-4b18-9c3f-fb6d24b232d3"
      },
      "execution_count": null,
      "outputs": [
        {
          "output_type": "stream",
          "name": "stdout",
          "text": [
            "10\n"
          ]
        }
      ]
    },
    {
      "cell_type": "code",
      "source": [
        "a=10\n",
        "print(a)"
      ],
      "metadata": {
        "colab": {
          "base_uri": "https://localhost:8080/"
        },
        "id": "D-VK3TCtHD-X",
        "outputId": "9385067a-c71e-4487-8fa5-d51ad7f94750"
      },
      "execution_count": null,
      "outputs": [
        {
          "output_type": "stream",
          "name": "stdout",
          "text": [
            "10\n"
          ]
        }
      ]
    },
    {
      "cell_type": "code",
      "source": [
        "print(\"good morning\\n\"*10)"
      ],
      "metadata": {
        "colab": {
          "base_uri": "https://localhost:8080/"
        },
        "id": "V-mwEN9CNO61",
        "outputId": "4f7f8ace-ba50-45dc-9c82-10aaee817a56"
      },
      "execution_count": 31,
      "outputs": [
        {
          "output_type": "stream",
          "name": "stdout",
          "text": [
            "good morning\n",
            "good morning\n",
            "good morning\n",
            "good morning\n",
            "good morning\n",
            "good morning\n",
            "good morning\n",
            "good morning\n",
            "good morning\n",
            "good morning\n",
            "\n"
          ]
        }
      ]
    },
    {
      "cell_type": "code",
      "source": [
        "print(\"hindi  22\")\n",
        "print(\"IC     26\")\n",
        "print(\"CCP    28\")\n",
        "print(\"dbms    20\")\n",
        "print(\"eng   22\")\n",
        "print(\"account  20\")"
      ],
      "metadata": {
        "colab": {
          "base_uri": "https://localhost:8080/"
        },
        "id": "87NAVEt1PrT7",
        "outputId": "1387eb80-778d-435c-a3e1-076e8fb93ec7"
      },
      "execution_count": 33,
      "outputs": [
        {
          "output_type": "stream",
          "name": "stdout",
          "text": [
            "hindi  22\n",
            "IC     26\n",
            "CCP    28\n",
            "dbms    20\n",
            "eng   22\n",
            "account  20\n"
          ]
        }
      ]
    },
    {
      "cell_type": "code",
      "source": [
        "y= 3.24\n",
        "print(y)"
      ],
      "metadata": {
        "colab": {
          "base_uri": "https://localhost:8080/"
        },
        "id": "-R9-kqsTWnus",
        "outputId": "aad82cf8-3795-49a1-81b2-8c96f794cce4"
      },
      "execution_count": 39,
      "outputs": [
        {
          "output_type": "stream",
          "name": "stdout",
          "text": [
            "3.24\n"
          ]
        }
      ]
    },
    {
      "cell_type": "code",
      "source": [
        "yes= True\n",
        "print(yes)"
      ],
      "metadata": {
        "colab": {
          "base_uri": "https://localhost:8080/"
        },
        "id": "yj-FCrdjWxTK",
        "outputId": "6c194674-90c9-4f9f-d80b-97c5bedbd479"
      },
      "execution_count": 40,
      "outputs": [
        {
          "output_type": "stream",
          "name": "stdout",
          "text": [
            "True\n"
          ]
        }
      ]
    },
    {
      "cell_type": "code",
      "source": [
        "na_12_me = \"chikodi\"\n",
        "print(na_12_me)"
      ],
      "metadata": {
        "colab": {
          "base_uri": "https://localhost:8080/"
        },
        "id": "b-TT_x2lXPVN",
        "outputId": "063c1e43-53f8-4993-8abb-8e4de67cc140"
      },
      "execution_count": 41,
      "outputs": [
        {
          "output_type": "stream",
          "name": "stdout",
          "text": [
            "chikodi\n"
          ]
        }
      ]
    },
    {
      "cell_type": "code",
      "source": [
        "name = \"chikodi\"\n",
        "per = 67.34\n",
        "print(name,per)"
      ],
      "metadata": {
        "colab": {
          "base_uri": "https://localhost:8080/"
        },
        "id": "puRfQx-JXnRc",
        "outputId": "00a34090-6140-4233-9d79-b9b26fe0f0f9"
      },
      "execution_count": 43,
      "outputs": [
        {
          "output_type": "stream",
          "name": "stdout",
          "text": [
            "chikodi 67.34\n"
          ]
        }
      ]
    },
    {
      "cell_type": "code",
      "source": [
        "print(\"my name is parth, i am studing in bkc college\")\n",
        "college = \"bk college\"\n",
        "name = \"parth\"\n"
      ],
      "metadata": {
        "colab": {
          "base_uri": "https://localhost:8080/"
        },
        "id": "sKpAu_rRZGeL",
        "outputId": "a5cf8475-83b4-4e6e-84c2-abdb37248b63"
      },
      "execution_count": 47,
      "outputs": [
        {
          "output_type": "stream",
          "name": "stdout",
          "text": [
            "my name is parth, i am studing in bkc college\n"
          ]
        }
      ]
    },
    {
      "cell_type": "code",
      "source": [
        "college = \"bk college\"\n",
        "year = 2024\n",
        "per = 75\n",
        "print(\"i have completed puc in\", college, \"in the year\",year, \"i gote per is \", per)"
      ],
      "metadata": {
        "colab": {
          "base_uri": "https://localhost:8080/"
        },
        "id": "PPxggwIEe7az",
        "outputId": "c5607245-d588-4022-e276-3a64aec07987"
      },
      "execution_count": 50,
      "outputs": [
        {
          "output_type": "stream",
          "name": "stdout",
          "text": [
            "i have completed puc in bk college in the year 2024 i gote per is  75\n"
          ]
        }
      ]
    }
  ]
}