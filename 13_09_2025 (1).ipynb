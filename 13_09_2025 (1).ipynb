{
  "nbformat": 4,
  "nbformat_minor": 0,
  "metadata": {
    "colab": {
      "provenance": []
    },
    "kernelspec": {
      "name": "python3",
      "display_name": "Python 3"
    },
    "language_info": {
      "name": "python"
    }
  },
  "cells": [
    {
      "cell_type": "code",
      "execution_count": 1,
      "metadata": {
        "colab": {
          "base_uri": "https://localhost:8080/"
        },
        "id": "uCJZuZPA97yK",
        "outputId": "68392ec2-fb49-4878-822b-46dbf098c982"
      },
      "outputs": [
        {
          "output_type": "stream",
          "name": "stdout",
          "text": [
            "good morning 25\n"
          ]
        }
      ],
      "source": [
        "a,b,c=\"good\",\"morning\",25\n",
        "print(a,b,c)"
      ]
    },
    {
      "cell_type": "code",
      "source": [
        "name, college,degree,  roll, =\"sharad\", \"bk\" ,\"bca\", 100\n",
        "print(\"hi,good morning i am \",name,\"i am studing \",degree,\"in\",college,\"at chikodi\", \"my roll no is\",roll)"
      ],
      "metadata": {
        "colab": {
          "base_uri": "https://localhost:8080/"
        },
        "id": "dpHKg03v_pdF",
        "outputId": "a02e2f5e-31fe-404e-9547-c94551bd5f25"
      },
      "execution_count": 4,
      "outputs": [
        {
          "output_type": "stream",
          "name": "stdout",
          "text": [
            "hi,good morning i am  sharad i am studing  bca in bk at chikodi my roll no is 100\n"
          ]
        }
      ]
    },
    {
      "cell_type": "code",
      "source": [
        "x=y=z=1001\n",
        "print(x,y,z)"
      ],
      "metadata": {
        "colab": {
          "base_uri": "https://localhost:8080/"
        },
        "id": "jzrU3w4n1ALe",
        "outputId": "55931683-8e42-4445-869b-7d8de38c153d"
      },
      "execution_count": 5,
      "outputs": [
        {
          "output_type": "stream",
          "name": "stdout",
          "text": [
            "1001 1001 1001\n"
          ]
        }
      ]
    },
    {
      "cell_type": "code",
      "source": [
        "a=b,c=\"college\",25\n",
        "print(b,c,a)"
      ],
      "metadata": {
        "colab": {
          "base_uri": "https://localhost:8080/"
        },
        "id": "uhl0nRp_1PQG",
        "outputId": "e2670669-f9b1-4add-c356-c272a67be4f0"
      },
      "execution_count": 6,
      "outputs": [
        {
          "output_type": "stream",
          "name": "stdout",
          "text": [
            "college 25 ('college', 25)\n"
          ]
        }
      ]
    },
    {
      "cell_type": "code",
      "source": [
        "a=10\n",
        "b=20\n",
        "print(\"addition of\",a, \"and\",b, \"is=\",a+b)"
      ],
      "metadata": {
        "colab": {
          "base_uri": "https://localhost:8080/"
        },
        "id": "C2d7H7Ae1r7P",
        "outputId": "cd4b922d-6bae-46d4-f6a4-a003e112752c"
      },
      "execution_count": 15,
      "outputs": [
        {
          "output_type": "stream",
          "name": "stdout",
          "text": [
            "addition of 10 and 20 is= 30\n"
          ]
        }
      ]
    },
    {
      "cell_type": "code",
      "source": [
        "x=35\n",
        "print(type(35))"
      ],
      "metadata": {
        "colab": {
          "base_uri": "https://localhost:8080/"
        },
        "id": "QzYZdqrl3j2O",
        "outputId": "2551da39-8db8-47fe-8268-fc7d003dd62e"
      },
      "execution_count": 18,
      "outputs": [
        {
          "output_type": "stream",
          "name": "stdout",
          "text": [
            "<class 'int'>\n"
          ]
        }
      ]
    },
    {
      "cell_type": "code",
      "source": [
        "college=100\n",
        "print(type(college))"
      ],
      "metadata": {
        "colab": {
          "base_uri": "https://localhost:8080/"
        },
        "id": "NJkP0sJC79i8",
        "outputId": "c1f7b4fb-8f91-4606-ba8b-75889b24b8dd"
      },
      "execution_count": 19,
      "outputs": [
        {
          "output_type": "stream",
          "name": "stdout",
          "text": [
            "<class 'int'>\n"
          ]
        }
      ]
    },
    {
      "cell_type": "code",
      "source": [
        "system=+200\n",
        "print(type(system))"
      ],
      "metadata": {
        "colab": {
          "base_uri": "https://localhost:8080/"
        },
        "id": "4jmF0JBy8O36",
        "outputId": "0a3f9b92-7767-472e-8a50-ca1c417d7d22"
      },
      "execution_count": 20,
      "outputs": [
        {
          "output_type": "stream",
          "name": "stdout",
          "text": [
            "<class 'int'>\n"
          ]
        }
      ]
    },
    {
      "cell_type": "code",
      "source": [
        "value=0\n",
        "print(type(value))"
      ],
      "metadata": {
        "colab": {
          "base_uri": "https://localhost:8080/"
        },
        "id": "rU1c3A8p8h27",
        "outputId": "906e33e0-8a06-4c3a-fdea-21ad5fbb81d9"
      },
      "execution_count": 21,
      "outputs": [
        {
          "output_type": "stream",
          "name": "stdout",
          "text": [
            "<class 'int'>\n"
          ]
        }
      ]
    },
    {
      "cell_type": "code",
      "source": [
        "num=1001\n",
        "print(type(num))"
      ],
      "metadata": {
        "colab": {
          "base_uri": "https://localhost:8080/"
        },
        "id": "JcJvFyL39ZbU",
        "outputId": "f570ed21-4975-453d-ebed-0011ddf15329"
      },
      "execution_count": 22,
      "outputs": [
        {
          "output_type": "stream",
          "name": "stdout",
          "text": [
            "<class 'int'>\n"
          ]
        }
      ]
    },
    {
      "cell_type": "code",
      "source": [
        "value=3.33\n",
        "print(type(value))"
      ],
      "metadata": {
        "colab": {
          "base_uri": "https://localhost:8080/"
        },
        "id": "zD1738t69kTT",
        "outputId": "106a10a1-7f78-4d1a-bf37-85b4fe4c3335"
      },
      "execution_count": 23,
      "outputs": [
        {
          "output_type": "stream",
          "name": "stdout",
          "text": [
            "<class 'float'>\n"
          ]
        }
      ]
    },
    {
      "cell_type": "code",
      "source": [
        "name=-100.33\n",
        "print(type(name))"
      ],
      "metadata": {
        "colab": {
          "base_uri": "https://localhost:8080/"
        },
        "id": "qe-VqGTy-GSz",
        "outputId": "887e1342-900c-49f2-f667-be8b4e7d4ffc"
      },
      "execution_count": 24,
      "outputs": [
        {
          "output_type": "stream",
          "name": "stdout",
          "text": [
            "<class 'float'>\n"
          ]
        }
      ]
    },
    {
      "cell_type": "code",
      "source": [
        "run=+20.0\n",
        "print(type(run))"
      ],
      "metadata": {
        "colab": {
          "base_uri": "https://localhost:8080/"
        },
        "id": "XXv76rx8-j78",
        "outputId": "93ff4e59-9d4c-4327-fd9d-6da1390cc35e"
      },
      "execution_count": 25,
      "outputs": [
        {
          "output_type": "stream",
          "name": "stdout",
          "text": [
            "<class 'float'>\n"
          ]
        }
      ]
    },
    {
      "cell_type": "code",
      "source": [
        "yes=\"true\"\n",
        "print(type(yes))"
      ],
      "metadata": {
        "colab": {
          "base_uri": "https://localhost:8080/"
        },
        "id": "SJ6bDeNS_r92",
        "outputId": "b0710866-bad6-4725-a6d4-6794875c4114"
      },
      "execution_count": 37,
      "outputs": [
        {
          "output_type": "stream",
          "name": "stdout",
          "text": [
            "<class 'str'>\n"
          ]
        }
      ]
    },
    {
      "cell_type": "code",
      "source": [
        "rollno=100\n",
        "print(type(rollno))"
      ],
      "metadata": {
        "colab": {
          "base_uri": "https://localhost:8080/"
        },
        "id": "4O9Kv8MFAdKB",
        "outputId": "5df3700e-0f6b-4050-ad6f-5cd39e8fd535"
      },
      "execution_count": 41,
      "outputs": [
        {
          "output_type": "stream",
          "name": "stdout",
          "text": [
            "<class 'int'>\n"
          ]
        }
      ]
    },
    {
      "cell_type": "code",
      "source": [
        "section=c\n",
        "print(type(section))"
      ],
      "metadata": {
        "colab": {
          "base_uri": "https://localhost:8080/"
        },
        "id": "JNJXXL2RA7cR",
        "outputId": "11d4ba33-01b5-4494-817f-597672d0b8a2"
      },
      "execution_count": 42,
      "outputs": [
        {
          "output_type": "stream",
          "name": "stdout",
          "text": [
            "<class 'int'>\n"
          ]
        }
      ]
    },
    {
      "cell_type": "code",
      "source": [
        "yes=\"true\"\n",
        "print(type(yes))"
      ],
      "metadata": {
        "colab": {
          "base_uri": "https://localhost:8080/"
        },
        "id": "GQO3vkfaBf2x",
        "outputId": "fa6029fa-8777-4e45-9b0f-fafef4ed44e2"
      },
      "execution_count": 45,
      "outputs": [
        {
          "output_type": "stream",
          "name": "stdout",
          "text": [
            "<class 'str'>\n"
          ]
        }
      ]
    },
    {
      "cell_type": "code",
      "source": [
        "programe=\"\"\"programe\"\"\"\n",
        "print(type(programe))"
      ],
      "metadata": {
        "colab": {
          "base_uri": "https://localhost:8080/"
        },
        "id": "cmlcf4CpCUdZ",
        "outputId": "de91cfeb-8495-48a6-ebb1-d9d77bad8692"
      },
      "execution_count": 46,
      "outputs": [
        {
          "output_type": "stream",
          "name": "stdout",
          "text": [
            "<class 'str'>\n"
          ]
        }
      ]
    },
    {
      "cell_type": "code",
      "source": [
        "string=\"python programing language\"\n",
        "print(type(string))"
      ],
      "metadata": {
        "colab": {
          "base_uri": "https://localhost:8080/"
        },
        "id": "P7rkfCl5D7xR",
        "outputId": "b2474bf4-c828-4f90-9b40-af8d7dd1560f"
      },
      "execution_count": 51,
      "outputs": [
        {
          "output_type": "stream",
          "name": "stdout",
          "text": [
            "<class 'str'>\n"
          ]
        }
      ]
    },
    {
      "cell_type": "code",
      "source": [
        "first=\"bkc\"\n",
        "second=\"college\"\n",
        "print(first+second)"
      ],
      "metadata": {
        "colab": {
          "base_uri": "https://localhost:8080/"
        },
        "id": "qUpAGOkWEYeF",
        "outputId": "dbdb84ed-abdc-44b0-e82b-1f5dc2cb1927"
      },
      "execution_count": 52,
      "outputs": [
        {
          "output_type": "stream",
          "name": "stdout",
          "text": [
            "bkccollege\n"
          ]
        }
      ]
    },
    {
      "cell_type": "code",
      "source": [
        "f=\"bkc\"\n",
        "second=\"college\"\n",
        "print(f+\" \"+second)"
      ],
      "metadata": {
        "colab": {
          "base_uri": "https://localhost:8080/"
        },
        "id": "QEV1QPZEEw2Q",
        "outputId": "e97b3d4c-03e8-4416-ed4f-eb7b236c7597"
      },
      "execution_count": 54,
      "outputs": [
        {
          "output_type": "stream",
          "name": "stdout",
          "text": [
            "bkc college\n"
          ]
        }
      ]
    },
    {
      "cell_type": "code",
      "source": [
        "f=\"bkc\"\n",
        "s=\"college\"\n",
        "print(((f+\" \"+s)+\"\\n\")*5)"
      ],
      "metadata": {
        "colab": {
          "base_uri": "https://localhost:8080/"
        },
        "id": "Bj05mg-MFOYA",
        "outputId": "6b0368b8-96d7-4573-d448-711857dde37e"
      },
      "execution_count": 83,
      "outputs": [
        {
          "output_type": "stream",
          "name": "stdout",
          "text": [
            "bkc college\n",
            "bkc college\n",
            "bkc college\n",
            "bkc college\n",
            "bkc college\n",
            "\n"
          ]
        }
      ]
    },
    {
      "cell_type": "code",
      "source": [
        "name=\"python programing languages\"\n",
        "print(name[5])\n",
        "print(name[-2])\n",
        "print(name[0:10])\n",
        "print(name[18])\n",
        "print(name[:2])\n",
        "print(name[3:4])\n",
        "print(name[6:])\n",
        "print(name[:-1])\n",
        "print(name[-22:-4])\n",
        "print(name[::1])\n",
        "print(name[::2])\n",
        "print(name[::3])\n",
        "print(name[::-1])\n",
        "print(name[::-3])"
      ],
      "metadata": {
        "colab": {
          "base_uri": "https://localhost:8080/"
        },
        "id": "w2kIqI8zPOSM",
        "outputId": "f39620e3-5adf-46ec-d1ab-c790c360b8ee"
      },
      "execution_count": 110,
      "outputs": [
        {
          "output_type": "stream",
          "name": "stdout",
          "text": [
            "n\n",
            "e\n",
            "python pro\n",
            "l\n",
            "py\n",
            "h\n",
            " programing languages\n",
            "python programing language\n",
            "n programing langu\n",
            "python programing languages\n",
            "pto rgaiglnugs\n",
            "ph oanlgg\n",
            "segaugnal gnimargorp nohtyp\n",
            "san irrnt\n"
          ]
        }
      ]
    },
    {
      "cell_type": "code",
      "source": [
        "comment='''python programing languages'''\n",
        "print(comment)"
      ],
      "metadata": {
        "colab": {
          "base_uri": "https://localhost:8080/"
        },
        "id": "3EcZm7X9Q2Hv",
        "outputId": "a6978c19-b747-47b4-fdc0-af2751d70a58"
      },
      "execution_count": 112,
      "outputs": [
        {
          "output_type": "stream",
          "name": "stdout",
          "text": [
            "python programing languages\n"
          ]
        }
      ]
    },
    {
      "cell_type": "code",
      "source": [
        "deteles='''multi line comments hi,good morning'''\n",
        "print(deteles)"
      ],
      "metadata": {
        "colab": {
          "base_uri": "https://localhost:8080/"
        },
        "id": "XWGJKkL8R57r",
        "outputId": "42324d35-eb09-4f75-9b9b-e1c9c2c9a68d"
      },
      "execution_count": 113,
      "outputs": [
        {
          "output_type": "stream",
          "name": "stdout",
          "text": [
            "multi line comments hi,good morning\n"
          ]
        }
      ]
    },
    {
      "cell_type": "code",
      "source": [
        "rollno=1,2,3,4,60\n",
        "print(rollno)"
      ],
      "metadata": {
        "colab": {
          "base_uri": "https://localhost:8080/"
        },
        "id": "XSJjZ7_bS0Zr",
        "outputId": "cc8f9a88-83d8-4332-9bb7-53e1a8f484b5"
      },
      "execution_count": 125,
      "outputs": [
        {
          "output_type": "stream",
          "name": "stdout",
          "text": [
            "(1, 2, 3, 4, 60)\n"
          ]
        }
      ]
    },
    {
      "cell_type": "code",
      "source": [
        "LIST=[101]\n",
        "print(LIST)"
      ],
      "metadata": {
        "colab": {
          "base_uri": "https://localhost:8080/"
        },
        "id": "RZ9g4QqmfdE-",
        "outputId": "89c1c1dd-3016-41c8-977c-a6b584125788"
      },
      "execution_count": 126,
      "outputs": [
        {
          "output_type": "stream",
          "name": "stdout",
          "text": [
            "[101]\n"
          ]
        }
      ]
    },
    {
      "cell_type": "code",
      "source": [
        "list=[101]\n",
        "print(list.append(\"parth\"))"
      ],
      "metadata": {
        "colab": {
          "base_uri": "https://localhost:8080/"
        },
        "id": "0XLGfa1jfoR9",
        "outputId": "d46a25a4-9e1a-438c-a6a0-ed929019f0fc"
      },
      "execution_count": 127,
      "outputs": [
        {
          "output_type": "stream",
          "name": "stdout",
          "text": [
            "None\n"
          ]
        }
      ]
    },
    {
      "cell_type": "code",
      "source": [
        "details=[101]\n",
        "print(details)"
      ],
      "metadata": {
        "colab": {
          "base_uri": "https://localhost:8080/"
        },
        "id": "08ooh_bq1-sv",
        "outputId": "82bc20e0-1baa-46a1-ac2e-d71e2d233bf1"
      },
      "execution_count": 135,
      "outputs": [
        {
          "output_type": "stream",
          "name": "stdout",
          "text": [
            "[101]\n"
          ]
        }
      ]
    },
    {
      "cell_type": "code",
      "source": [
        "details=[101]\n",
        "print(type(details))"
      ],
      "metadata": {
        "colab": {
          "base_uri": "https://localhost:8080/"
        },
        "id": "hMhe5Z562YME",
        "outputId": "deebdfb2-ed64-4e8f-d7f3-44644781760a"
      },
      "execution_count": 136,
      "outputs": [
        {
          "output_type": "stream",
          "name": "stdout",
          "text": [
            "<class 'list'>\n"
          ]
        }
      ]
    },
    {
      "cell_type": "code",
      "source": [
        "details.append(85.12)\n",
        "print(details)\n"
      ],
      "metadata": {
        "colab": {
          "base_uri": "https://localhost:8080/"
        },
        "id": "NCgYD84b2mSc",
        "outputId": "07e3b660-24ac-47f1-9303-318594176106"
      },
      "execution_count": 142,
      "outputs": [
        {
          "output_type": "stream",
          "name": "stdout",
          "text": [
            "[101, 85.12, 85.12, 85.12]\n"
          ]
        }
      ]
    },
    {
      "cell_type": "code",
      "source": [
        "details=[101]\n",
        "print(details)\n",
        "print(type(details))\n",
        "details.append(85.12)\n",
        "print(details)\n",
        "details.append(\"true\")\n",
        "print(details)\n",
        "print(len(details))\n",
        "print(details.pop())\n",
        "print(details)\n",
        "details.append(\"parth\")\n",
        "print(details)\n",
        "details.append(-99)\n",
        "print(details)\n",
        "print(len(details))\n",
        "print(details[2])\n",
        "print(details[3])\n",
        "details.append(\"bk college\")\n",
        "print(details)\n",
        "details[3]=99\n",
        "print(details)\n",
        "print(details[2:4])\n",
        "details.insert(2,\"false\")\n",
        "print(details)\n",
        "details.remove(\"false\")\n",
        "print(details)\n",
        "print(len(details))\n",
        "print(details[4])\n",
        "print(details[::-1])\n",
        "print(details.count(101))\n",
        "print(details.clear())\n",
        "print(details)\n",
        "print(type(details))"
      ],
      "metadata": {
        "colab": {
          "base_uri": "https://localhost:8080/"
        },
        "id": "LEW8DfMa4RkE",
        "outputId": "3896a5bf-3b29-4cb6-826c-579a206e2aff"
      },
      "execution_count": 174,
      "outputs": [
        {
          "output_type": "stream",
          "name": "stdout",
          "text": [
            "[101]\n",
            "<class 'list'>\n",
            "[101, 85.12]\n",
            "[101, 85.12, 'true']\n",
            "3\n",
            "true\n",
            "[101, 85.12]\n",
            "[101, 85.12, 'parth']\n",
            "[101, 85.12, 'parth', -99]\n",
            "4\n",
            "parth\n",
            "-99\n",
            "[101, 85.12, 'parth', -99, 'bk college']\n",
            "[101, 85.12, 'parth', 99, 'bk college']\n",
            "['parth', 99]\n",
            "[101, 85.12, 'false', 'parth', 99, 'bk college']\n",
            "[101, 85.12, 'parth', 99, 'bk college']\n",
            "5\n",
            "bk college\n",
            "['bk college', 99, 'parth', 85.12, 101]\n",
            "1\n",
            "None\n",
            "[]\n",
            "<class 'list'>\n"
          ]
        }
      ]
    },
    {
      "cell_type": "code",
      "source": [
        "information=[133]\n",
        "print(information)\n",
        "print(type(information))\n",
        "information.append(85.12)\n",
        "print(information)\n",
        "information.append(\"true\")\n",
        "print(information)\n",
        "print(len(information))\n",
        "print(information.pop())\n",
        "print(information)\n",
        "information.append(\"parth\")\n",
        "print(information)\n",
        "information.append(-99)\n",
        "print(information)\n",
        "print(len(information))\n",
        "print(information[2])\n",
        "print(information[3])\n",
        "information.append(\"bk college\")\n",
        "print(information)\n",
        "information[3]=99\n",
        "print(information)\n",
        "print(information[2:4])\n",
        "information.insert(2,\"false\")\n",
        "print(information)\n",
        "information.remove(\"false\")\n",
        "print(information)\n",
        "print(len(information))\n",
        "print(information[4])\n",
        "print(information[::-1])\n",
        "print(information.count(133))\n",
        "print(information.clear())\n",
        "print(information)\n",
        "print(type(information))\n",
        "\n"
      ],
      "metadata": {
        "colab": {
          "base_uri": "https://localhost:8080/"
        },
        "id": "Lbah27riCbbk",
        "outputId": "46acf590-242d-4332-b2f3-c562ddc75ed0"
      },
      "execution_count": 175,
      "outputs": [
        {
          "output_type": "stream",
          "name": "stdout",
          "text": [
            "[133]\n",
            "<class 'list'>\n",
            "[133, 85.12]\n",
            "[133, 85.12, 'true']\n",
            "3\n",
            "true\n",
            "[133, 85.12]\n",
            "[133, 85.12, 'parth']\n",
            "[133, 85.12, 'parth', -99]\n",
            "4\n",
            "parth\n",
            "-99\n",
            "[133, 85.12, 'parth', -99, 'bk college']\n",
            "[133, 85.12, 'parth', 99, 'bk college']\n",
            "['parth', 99]\n",
            "[133, 85.12, 'false', 'parth', 99, 'bk college']\n",
            "[133, 85.12, 'parth', 99, 'bk college']\n",
            "5\n",
            "bk college\n",
            "['bk college', 99, 'parth', 85.12, 133]\n",
            "1\n",
            "None\n",
            "[]\n",
            "<class 'list'>\n"
          ]
        }
      ]
    },
    {
      "cell_type": "code",
      "source": [
        "number=[4,2,7,1,8,5]\n",
        "print(number)\n",
        "number.sort()\n",
        "print(number)"
      ],
      "metadata": {
        "colab": {
          "base_uri": "https://localhost:8080/"
        },
        "id": "iBK0SkdoGVHb",
        "outputId": "86661665-f0df-4272-9d1b-885da3c08c45"
      },
      "execution_count": 177,
      "outputs": [
        {
          "output_type": "stream",
          "name": "stdout",
          "text": [
            "[4, 2, 7, 1, 8, 5]\n",
            "[1, 2, 4, 5, 7, 8]\n"
          ]
        }
      ]
    }
  ]
}